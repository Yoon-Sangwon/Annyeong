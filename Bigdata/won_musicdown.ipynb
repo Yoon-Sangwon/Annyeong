{
 "cells": [
  {
   "cell_type": "code",
   "execution_count": 7,
   "metadata": {},
   "outputs": [],
   "source": [
    "from selenium import webdriver\n",
    "from selenium.webdriver import ActionChains\n",
    "import urllib\n",
    "import time\n",
    "import pandas as pd\n",
    "from tqdm import trange, tqdm, tqdm_notebook\n",
    "import numpy as np"
   ]
  },
  {
   "cell_type": "code",
   "execution_count": 2,
   "metadata": {},
   "outputs": [],
   "source": [
    "driver = webdriver.Chrome('C:/Temp/chromedriver')"
   ]
  },
  {
   "cell_type": "code",
   "execution_count": 3,
   "metadata": {},
   "outputs": [],
   "source": [
    "driver.get('https://gongu.copyright.or.kr/gongu/wrt/wrtCl/listWrtSound.do?menuNo=200020&pageIndex=1')"
   ]
  },
  {
   "cell_type": "code",
   "execution_count": 4,
   "metadata": {},
   "outputs": [],
   "source": [
    "def pagein(mtitle, mtag1, mtag2, mtag3, titles, tags1, tags2, tags3):\n",
    "    for title, tag1, tag2, tag3 in zip(titles, tags1, tags2, tags3):\n",
    "        if (title.text == mtitle) & (tag1.text == mtag1) & (tag2.text == mtag2) & (tag3.text == mtag3):\n",
    "            title.click()\n",
    "            break"
   ]
  },
  {
   "cell_type": "code",
   "execution_count": 5,
   "metadata": {},
   "outputs": [],
   "source": [
    "def downloadmp3(names, checkboxes):\n",
    "    cnt = 0\n",
    "    for name in names:\n",
    "        if name.text[-3:] in ['mp3', 'wav']:\n",
    "            checkboxes[cnt].click()\n",
    "            driver.find_element_by_css_selector('#button_download').click()\n",
    "            break\n",
    "        cnt += 1"
   ]
  },
  {
   "cell_type": "code",
   "execution_count": 59,
   "metadata": {},
   "outputs": [],
   "source": [
    "music = pd.read_csv('music_emotion.csv').iloc[:, [1,2,3,4,5,6,7,8,9,10,11,12,13,14,17]]\n",
    "music = music[(music['emotion'] == '우울') | (music['emotion'] == '기쁨')]"
   ]
  },
  {
   "cell_type": "code",
   "execution_count": 60,
   "metadata": {},
   "outputs": [
    {
     "data": {
      "text/html": [
       "<div>\n",
       "<style scoped>\n",
       "    .dataframe tbody tr th:only-of-type {\n",
       "        vertical-align: middle;\n",
       "    }\n",
       "\n",
       "    .dataframe tbody tr th {\n",
       "        vertical-align: top;\n",
       "    }\n",
       "\n",
       "    .dataframe thead th {\n",
       "        text-align: right;\n",
       "    }\n",
       "</style>\n",
       "<table border=\"1\" class=\"dataframe\">\n",
       "  <thead>\n",
       "    <tr style=\"text-align: right;\">\n",
       "      <th></th>\n",
       "      <th>title</th>\n",
       "      <th>recommend</th>\n",
       "      <th>clicks</th>\n",
       "      <th>download</th>\n",
       "      <th>tag1</th>\n",
       "      <th>tag2</th>\n",
       "      <th>tag3</th>\n",
       "      <th>tag4</th>\n",
       "      <th>tag5</th>\n",
       "      <th>tag6</th>\n",
       "      <th>tag7</th>\n",
       "      <th>tag8</th>\n",
       "      <th>tag9</th>\n",
       "      <th>tag10</th>\n",
       "      <th>emotion</th>\n",
       "    </tr>\n",
       "  </thead>\n",
       "  <tbody>\n",
       "    <tr>\n",
       "      <th>0</th>\n",
       "      <td>4. Keyboard Concerto No. 5 in F Minor BWV 1056...</td>\n",
       "      <td>22</td>\n",
       "      <td>5901</td>\n",
       "      <td>1794</td>\n",
       "      <td>명상</td>\n",
       "      <td>기타(GUITAR)</td>\n",
       "      <td>EMOTIONAL</td>\n",
       "      <td>매우느리게</td>\n",
       "      <td>Jazz</td>\n",
       "      <td>드럼(DRUM)</td>\n",
       "      <td>피아노(PIANO)</td>\n",
       "      <td>콘트라베이스(CONTRABASS)</td>\n",
       "      <td>ballad</td>\n",
       "      <td>NaN</td>\n",
       "      <td>우울</td>\n",
       "    </tr>\n",
       "    <tr>\n",
       "      <th>5</th>\n",
       "      <td>9. Prelude, op.28-15(Rain Drop)_ 쇼팽 : 전주곡 15번 ...</td>\n",
       "      <td>12</td>\n",
       "      <td>4227</td>\n",
       "      <td>950</td>\n",
       "      <td>CHIC</td>\n",
       "      <td>세련</td>\n",
       "      <td>느리게</td>\n",
       "      <td>Jazz</td>\n",
       "      <td>드럼(DRUM)</td>\n",
       "      <td>피아노(PIANO)</td>\n",
       "      <td>콘트라베이스(CONTRABASS)</td>\n",
       "      <td>ballad</td>\n",
       "      <td>NaN</td>\n",
       "      <td>NaN</td>\n",
       "      <td>우울</td>\n",
       "    </tr>\n",
       "    <tr>\n",
       "      <th>8</th>\n",
       "      <td>2. Frolicher Landmann_ 행복한 농부_ragtime</td>\n",
       "      <td>28</td>\n",
       "      <td>6296</td>\n",
       "      <td>2629</td>\n",
       "      <td>경쾌</td>\n",
       "      <td>ENERGETIC</td>\n",
       "      <td>빠르게</td>\n",
       "      <td>기타(GUITAR)</td>\n",
       "      <td>Jazz</td>\n",
       "      <td>드럼(DRUM)</td>\n",
       "      <td>피아노(PIANO)</td>\n",
       "      <td>콘트라베이스(CONTRABASS)</td>\n",
       "      <td>ragtime</td>\n",
       "      <td>NaN</td>\n",
       "      <td>기쁨</td>\n",
       "    </tr>\n",
       "    <tr>\n",
       "      <th>9</th>\n",
       "      <td>27. Kinderszenen Op.15 - VII. Traumerei_ 어린이의 ...</td>\n",
       "      <td>16</td>\n",
       "      <td>4349</td>\n",
       "      <td>1502</td>\n",
       "      <td>명상</td>\n",
       "      <td>EMOTIONAL</td>\n",
       "      <td>매우느리게</td>\n",
       "      <td>Jazz</td>\n",
       "      <td>드럼(DRUM)</td>\n",
       "      <td>피아노(PIANO)</td>\n",
       "      <td>콘트라베이스(CONTRABASS)</td>\n",
       "      <td>ballad</td>\n",
       "      <td>NaN</td>\n",
       "      <td>NaN</td>\n",
       "      <td>우울</td>\n",
       "    </tr>\n",
       "    <tr>\n",
       "      <th>10</th>\n",
       "      <td>97. Symphony No. 5 in Cminor, Op.67_ 교향곡 제5번 다...</td>\n",
       "      <td>2</td>\n",
       "      <td>2004</td>\n",
       "      <td>562</td>\n",
       "      <td>DARK</td>\n",
       "      <td>빠르게</td>\n",
       "      <td>오케스트라(ORCHESTRA)</td>\n",
       "      <td>재분류</td>\n",
       "      <td>string</td>\n",
       "      <td>어두운</td>\n",
       "      <td>NaN</td>\n",
       "      <td>NaN</td>\n",
       "      <td>NaN</td>\n",
       "      <td>NaN</td>\n",
       "      <td>기쁨</td>\n",
       "    </tr>\n",
       "    <tr>\n",
       "      <th>...</th>\n",
       "      <td>...</td>\n",
       "      <td>...</td>\n",
       "      <td>...</td>\n",
       "      <td>...</td>\n",
       "      <td>...</td>\n",
       "      <td>...</td>\n",
       "      <td>...</td>\n",
       "      <td>...</td>\n",
       "      <td>...</td>\n",
       "      <td>...</td>\n",
       "      <td>...</td>\n",
       "      <td>...</td>\n",
       "      <td>...</td>\n",
       "      <td>...</td>\n",
       "      <td>...</td>\n",
       "    </tr>\n",
       "    <tr>\n",
       "      <th>1499</th>\n",
       "      <td>쪼각빗</td>\n",
       "      <td>0</td>\n",
       "      <td>445</td>\n",
       "      <td>229</td>\n",
       "      <td>기타</td>\n",
       "      <td>BRIGHT</td>\n",
       "      <td>경쾌</td>\n",
       "      <td>ENERGETIC</td>\n",
       "      <td>밝은</td>\n",
       "      <td>상큼</td>\n",
       "      <td>FRESH</td>\n",
       "      <td>신스(SYNTH)</td>\n",
       "      <td>키보드(KEYBOARD)</td>\n",
       "      <td>빠르게</td>\n",
       "      <td>기쁨</td>\n",
       "    </tr>\n",
       "    <tr>\n",
       "      <th>1504</th>\n",
       "      <td>고향의 봄</td>\n",
       "      <td>2</td>\n",
       "      <td>3753</td>\n",
       "      <td>583</td>\n",
       "      <td>BRIGHT</td>\n",
       "      <td>밝은</td>\n",
       "      <td>타악기(PERCUSSION)</td>\n",
       "      <td>신스(SYNTH)</td>\n",
       "      <td>CHIC</td>\n",
       "      <td>세련</td>\n",
       "      <td>느리게</td>\n",
       "      <td>키보드(KEYBOARD)</td>\n",
       "      <td>월드뮤직</td>\n",
       "      <td>팝</td>\n",
       "      <td>우울</td>\n",
       "    </tr>\n",
       "    <tr>\n",
       "      <th>1519</th>\n",
       "      <td>가을</td>\n",
       "      <td>0</td>\n",
       "      <td>717</td>\n",
       "      <td>292</td>\n",
       "      <td>기타</td>\n",
       "      <td>BRIGHT</td>\n",
       "      <td>경쾌</td>\n",
       "      <td>ENERGETIC</td>\n",
       "      <td>밝은</td>\n",
       "      <td>상큼</td>\n",
       "      <td>FRESH</td>\n",
       "      <td>신스(SYNTH)</td>\n",
       "      <td>키보드(KEYBOARD)</td>\n",
       "      <td>빠르게</td>\n",
       "      <td>기쁨</td>\n",
       "    </tr>\n",
       "    <tr>\n",
       "      <th>1520</th>\n",
       "      <td>꽃밭</td>\n",
       "      <td>0</td>\n",
       "      <td>888</td>\n",
       "      <td>258</td>\n",
       "      <td>기타</td>\n",
       "      <td>BRIGHT</td>\n",
       "      <td>경쾌</td>\n",
       "      <td>ENERGETIC</td>\n",
       "      <td>밝은</td>\n",
       "      <td>상큼</td>\n",
       "      <td>FRESH</td>\n",
       "      <td>신스(SYNTH)</td>\n",
       "      <td>키보드(KEYBOARD)</td>\n",
       "      <td>빠르게</td>\n",
       "      <td>기쁨</td>\n",
       "    </tr>\n",
       "    <tr>\n",
       "      <th>1521</th>\n",
       "      <td>댕댕이</td>\n",
       "      <td>0</td>\n",
       "      <td>774</td>\n",
       "      <td>448</td>\n",
       "      <td>기타</td>\n",
       "      <td>BRIGHT</td>\n",
       "      <td>경쾌</td>\n",
       "      <td>ENERGETIC</td>\n",
       "      <td>밝은</td>\n",
       "      <td>상큼</td>\n",
       "      <td>FRESH</td>\n",
       "      <td>신스(SYNTH)</td>\n",
       "      <td>키보드(KEYBOARD)</td>\n",
       "      <td>빠르게</td>\n",
       "      <td>기쁨</td>\n",
       "    </tr>\n",
       "  </tbody>\n",
       "</table>\n",
       "<p>292 rows × 15 columns</p>\n",
       "</div>"
      ],
      "text/plain": [
       "                                                  title  recommend  clicks  \\\n",
       "0     4. Keyboard Concerto No. 5 in F Minor BWV 1056...         22    5901   \n",
       "5     9. Prelude, op.28-15(Rain Drop)_ 쇼팽 : 전주곡 15번 ...         12    4227   \n",
       "8                 2. Frolicher Landmann_ 행복한 농부_ragtime         28    6296   \n",
       "9     27. Kinderszenen Op.15 - VII. Traumerei_ 어린이의 ...         16    4349   \n",
       "10    97. Symphony No. 5 in Cminor, Op.67_ 교향곡 제5번 다...          2    2004   \n",
       "...                                                 ...        ...     ...   \n",
       "1499                                                쪼각빗          0     445   \n",
       "1504                                              고향의 봄          2    3753   \n",
       "1519                                                 가을          0     717   \n",
       "1520                                                 꽃밭          0     888   \n",
       "1521                                                댕댕이          0     774   \n",
       "\n",
       "      download    tag1        tag2              tag3        tag4      tag5  \\\n",
       "0         1794      명상  기타(GUITAR)         EMOTIONAL       매우느리게      Jazz   \n",
       "5          950    CHIC          세련               느리게        Jazz  드럼(DRUM)   \n",
       "8         2629      경쾌   ENERGETIC               빠르게  기타(GUITAR)      Jazz   \n",
       "9         1502      명상   EMOTIONAL             매우느리게        Jazz  드럼(DRUM)   \n",
       "10         562    DARK         빠르게  오케스트라(ORCHESTRA)         재분류    string   \n",
       "...        ...     ...         ...               ...         ...       ...   \n",
       "1499       229      기타      BRIGHT                경쾌   ENERGETIC        밝은   \n",
       "1504       583  BRIGHT          밝은   타악기(PERCUSSION)   신스(SYNTH)      CHIC   \n",
       "1519       292      기타      BRIGHT                경쾌   ENERGETIC        밝은   \n",
       "1520       258      기타      BRIGHT                경쾌   ENERGETIC        밝은   \n",
       "1521       448      기타      BRIGHT                경쾌   ENERGETIC        밝은   \n",
       "\n",
       "            tag6                tag7                tag8           tag9 tag10  \\\n",
       "0       드럼(DRUM)          피아노(PIANO)  콘트라베이스(CONTRABASS)         ballad   NaN   \n",
       "5     피아노(PIANO)  콘트라베이스(CONTRABASS)              ballad            NaN   NaN   \n",
       "8       드럼(DRUM)          피아노(PIANO)  콘트라베이스(CONTRABASS)        ragtime   NaN   \n",
       "9     피아노(PIANO)  콘트라베이스(CONTRABASS)              ballad            NaN   NaN   \n",
       "10           어두운                 NaN                 NaN            NaN   NaN   \n",
       "...          ...                 ...                 ...            ...   ...   \n",
       "1499          상큼               FRESH           신스(SYNTH)  키보드(KEYBOARD)   빠르게   \n",
       "1504          세련                 느리게       키보드(KEYBOARD)           월드뮤직     팝   \n",
       "1519          상큼               FRESH           신스(SYNTH)  키보드(KEYBOARD)   빠르게   \n",
       "1520          상큼               FRESH           신스(SYNTH)  키보드(KEYBOARD)   빠르게   \n",
       "1521          상큼               FRESH           신스(SYNTH)  키보드(KEYBOARD)   빠르게   \n",
       "\n",
       "     emotion  \n",
       "0         우울  \n",
       "5         우울  \n",
       "8         기쁨  \n",
       "9         우울  \n",
       "10        기쁨  \n",
       "...      ...  \n",
       "1499      기쁨  \n",
       "1504      우울  \n",
       "1519      기쁨  \n",
       "1520      기쁨  \n",
       "1521      기쁨  \n",
       "\n",
       "[292 rows x 15 columns]"
      ]
     },
     "execution_count": 60,
     "metadata": {},
     "output_type": "execute_result"
    }
   ],
   "source": [
    "music"
   ]
  },
  {
   "cell_type": "code",
   "execution_count": 63,
   "metadata": {},
   "outputs": [],
   "source": [
    "driver.switch_to.window(driver.window_handles[0])"
   ]
  },
  {
   "cell_type": "code",
   "execution_count": 37,
   "metadata": {
    "tags": []
   },
   "outputs": [
    {
     "name": "stderr",
     "output_type": "stream",
     "text": [
      "2it [00:11,  5.17s/it]"
     ]
    },
    {
     "name": "stdout",
     "output_type": "stream",
     "text": [
      "9. Prelude, op.28-15(Rain Drop)_ 쇼팽 : 전주곡 15번 내림 라장조 작품번호 28-15 '빗방울'_ballad\n"
     ]
    },
    {
     "name": "stderr",
     "output_type": "stream",
     "text": [
      "9it [01:23,  9.52s/it]"
     ]
    },
    {
     "name": "stdout",
     "output_type": "stream",
     "text": [
      "101. Serenade No.13 in G Major K525 'Eine Kleins Nachtmusik'_ 세레나데 제 13번 사장조 '아이네 클라이네 나흐트 무지크'_string\n"
     ]
    },
    {
     "name": "stderr",
     "output_type": "stream",
     "text": [
      "10it [01:26,  7.54s/it]"
     ]
    },
    {
     "name": "stdout",
     "output_type": "stream",
     "text": [
      "102. Symphony No. 8 in B minor. D759 'Unfinished'_ 교향곡 8번 나단조 D759 '미완성'_string\n"
     ]
    },
    {
     "name": "stderr",
     "output_type": "stream",
     "text": [
      "17it [02:22,  7.10s/it]"
     ]
    },
    {
     "name": "stdout",
     "output_type": "stream",
     "text": [
      "53. Etude No.3 In E Major Op.10-3 'Tristesse'_ 에튀드 제 3번 마장조 작품번호 10-3 '내 맘속을 울리는 그대'_bossa nova\n"
     ]
    },
    {
     "name": "stderr",
     "output_type": "stream",
     "text": [
      "25it [03:25,  6.74s/it]"
     ]
    },
    {
     "name": "stdout",
     "output_type": "stream",
     "text": [
      "58. Una Furtiva Lagrima Da L'Elisir d'Amore_ 남 몰래 흐르는 눈물_bossa nova\n"
     ]
    },
    {
     "name": "stderr",
     "output_type": "stream",
     "text": [
      "26it [03:31,  6.39s/it]"
     ]
    },
    {
     "name": "stdout",
     "output_type": "stream",
     "text": [
      "85. Turkish March_ 터키행진곡_국악\n"
     ]
    },
    {
     "name": "stderr",
     "output_type": "stream",
     "text": [
      "27it [03:34,  5.41s/it]"
     ]
    },
    {
     "name": "stdout",
     "output_type": "stream",
     "text": [
      "60. Una Furtiva Lagrima Da L'Elisir d'Amore_ 남 몰래 흐르는 눈물_ballad\n"
     ]
    },
    {
     "name": "stderr",
     "output_type": "stream",
     "text": [
      "32it [04:16,  7.28s/it]"
     ]
    },
    {
     "name": "stdout",
     "output_type": "stream",
     "text": [
      "67. The seasons June_ 사계' 중 '6월'_ballad\n"
     ]
    },
    {
     "name": "stderr",
     "output_type": "stream",
     "text": [
      "58it [08:24, 13.48s/it]"
     ]
    },
    {
     "name": "stdout",
     "output_type": "stream",
     "text": [
      "Symphony No.9 2nd Mov.Theme ver.3\n"
     ]
    },
    {
     "name": "stderr",
     "output_type": "stream",
     "text": [
      "97it [14:04,  7.47s/it]"
     ]
    },
    {
     "name": "stdout",
     "output_type": "stream",
     "text": [
      "Pavane op. 50 ver.2\n"
     ]
    },
    {
     "name": "stderr",
     "output_type": "stream",
     "text": [
      "101it [14:53, 11.09s/it]"
     ]
    },
    {
     "name": "stdout",
     "output_type": "stream",
     "text": [
      "Piano Concerto No. 5 \"Emperor\" 1st Movement\n"
     ]
    },
    {
     "name": "stderr",
     "output_type": "stream",
     "text": [
      "102it [14:58,  9.20s/it]"
     ]
    },
    {
     "name": "stdout",
     "output_type": "stream",
     "text": [
      "Piano Concerto No. 5 \"Emperor\" 3rd Movement\n"
     ]
    },
    {
     "name": "stderr",
     "output_type": "stream",
     "text": [
      "103it [15:04,  8.12s/it]"
     ]
    },
    {
     "name": "stdout",
     "output_type": "stream",
     "text": [
      "Piano Concerto No. 4, 1st Movement\n"
     ]
    },
    {
     "name": "stderr",
     "output_type": "stream",
     "text": [
      "107it [15:33,  7.18s/it]"
     ]
    },
    {
     "name": "stdout",
     "output_type": "stream",
     "text": [
      "Für Elise (Bagatelle No. 25 in A Minor)\n"
     ]
    },
    {
     "name": "stderr",
     "output_type": "stream",
     "text": [
      "113it [16:15,  6.51s/it]"
     ]
    },
    {
     "name": "stdout",
     "output_type": "stream",
     "text": [
      "Piano Sonata No. 29, Op. 106 1st Movement\n"
     ]
    },
    {
     "name": "stderr",
     "output_type": "stream",
     "text": [
      "117it [16:43,  6.36s/it]"
     ]
    },
    {
     "name": "stdout",
     "output_type": "stream",
     "text": [
      "Là-bas, vers l'église\n"
     ]
    },
    {
     "name": "stderr",
     "output_type": "stream",
     "text": [
      "138it [19:19,  6.66s/it]"
     ]
    },
    {
     "name": "stdout",
     "output_type": "stream",
     "text": [
      "Piano Concerto in F - III. Allegro agitato\n"
     ]
    },
    {
     "name": "stderr",
     "output_type": "stream",
     "text": [
      "157it [21:52,  6.77s/it]"
     ]
    },
    {
     "name": "stdout",
     "output_type": "stream",
     "text": [
      "Kindertotenlieder, No.1 - Nun will die Sonn' so hell aufgeh'n!\n"
     ]
    },
    {
     "name": "stderr",
     "output_type": "stream",
     "text": [
      "161it [22:20,  6.52s/it]"
     ]
    },
    {
     "name": "stdout",
     "output_type": "stream",
     "text": [
      "Feuilles d'album, No.5 - Rose d'Amour\n"
     ]
    },
    {
     "name": "stderr",
     "output_type": "stream",
     "text": [
      "185it [25:32,  7.07s/it]"
     ]
    },
    {
     "name": "stdout",
     "output_type": "stream",
     "text": [
      "Études-Tableaux, Op. 33, No. 8\n"
     ]
    },
    {
     "name": "stderr",
     "output_type": "stream",
     "text": [
      "187it [25:44,  6.45s/it]"
     ]
    },
    {
     "name": "stdout",
     "output_type": "stream",
     "text": [
      "Liederkreis, Op.39, No.11 - Im Walde\n"
     ]
    },
    {
     "name": "stderr",
     "output_type": "stream",
     "text": [
      "188it [25:49,  5.85s/it]"
     ]
    },
    {
     "name": "stdout",
     "output_type": "stream",
     "text": [
      "Piano Sonata No. 2, Op.36: I\n"
     ]
    },
    {
     "name": "stderr",
     "output_type": "stream",
     "text": [
      "189it [25:53,  5.40s/it]"
     ]
    },
    {
     "name": "stdout",
     "output_type": "stream",
     "text": [
      "Concert Étude after Paganini's 2nd Caprice, Op. 10, No. 5\n"
     ]
    },
    {
     "name": "stderr",
     "output_type": "stream",
     "text": [
      "192it [26:11,  5.55s/it]"
     ]
    },
    {
     "name": "stdout",
     "output_type": "stream",
     "text": [
      "Piano Sonata No. 2, Op.36: III\n"
     ]
    },
    {
     "name": "stderr",
     "output_type": "stream",
     "text": [
      "193it [26:16,  5.25s/it]"
     ]
    },
    {
     "name": "stdout",
     "output_type": "stream",
     "text": [
      "Concert Étude after Paganini's 12th Caprice, Op. 10, No. 1\n"
     ]
    },
    {
     "name": "stderr",
     "output_type": "stream",
     "text": [
      "194it [26:21,  5.24s/it]"
     ]
    },
    {
     "name": "stdout",
     "output_type": "stream",
     "text": [
      "Étude after Paganini's 16th Caprice, Op. 3, No. 6\n"
     ]
    },
    {
     "name": "stderr",
     "output_type": "stream",
     "text": [
      "195it [26:24,  4.76s/it]"
     ]
    },
    {
     "name": "stdout",
     "output_type": "stream",
     "text": [
      "Violin Caprice No. 14 in E-Flat Major\n"
     ]
    },
    {
     "name": "stderr",
     "output_type": "stream",
     "text": [
      "196it [26:29,  4.66s/it]"
     ]
    },
    {
     "name": "stdout",
     "output_type": "stream",
     "text": [
      "Violin Caprice No. 16 in G Minor\n"
     ]
    },
    {
     "name": "stderr",
     "output_type": "stream",
     "text": [
      "197it [26:33,  4.59s/it]"
     ]
    },
    {
     "name": "stdout",
     "output_type": "stream",
     "text": [
      "Violin Caprice No. 19 in E-Flat Major\n"
     ]
    },
    {
     "name": "stderr",
     "output_type": "stream",
     "text": [
      "198it [26:37,  4.44s/it]"
     ]
    },
    {
     "name": "stdout",
     "output_type": "stream",
     "text": [
      "Violin Caprice No. 20 in D Major\n"
     ]
    },
    {
     "name": "stderr",
     "output_type": "stream",
     "text": [
      "199it [26:42,  4.36s/it]"
     ]
    },
    {
     "name": "stdout",
     "output_type": "stream",
     "text": [
      "Violin Caprice No. 21 in A Major\n"
     ]
    },
    {
     "name": "stderr",
     "output_type": "stream",
     "text": [
      "200it [26:46,  4.38s/it]"
     ]
    },
    {
     "name": "stdout",
     "output_type": "stream",
     "text": [
      "Violin Caprice No. 22 in F Major\n"
     ]
    },
    {
     "name": "stderr",
     "output_type": "stream",
     "text": [
      "201it [26:50,  4.31s/it]"
     ]
    },
    {
     "name": "stdout",
     "output_type": "stream",
     "text": [
      "Violin Caprice No. 12 in A-Flat Major\n"
     ]
    },
    {
     "name": "stderr",
     "output_type": "stream",
     "text": [
      "202it [26:54,  4.23s/it]"
     ]
    },
    {
     "name": "stdout",
     "output_type": "stream",
     "text": [
      "Violin Caprice No. 11 in C Major\n"
     ]
    },
    {
     "name": "stderr",
     "output_type": "stream",
     "text": [
      "203it [26:58,  4.17s/it]"
     ]
    },
    {
     "name": "stdout",
     "output_type": "stream",
     "text": [
      "Violin Caprice No. 10 in G Minor\n"
     ]
    },
    {
     "name": "stderr",
     "output_type": "stream",
     "text": [
      "204it [27:03,  4.19s/it]"
     ]
    },
    {
     "name": "stdout",
     "output_type": "stream",
     "text": [
      "Violin Caprice No. 6 in G Minor\n"
     ]
    },
    {
     "name": "stderr",
     "output_type": "stream",
     "text": [
      "205it [27:07,  4.17s/it]"
     ]
    },
    {
     "name": "stdout",
     "output_type": "stream",
     "text": [
      "Violin Caprice No. 5 in A Minor\n"
     ]
    },
    {
     "name": "stderr",
     "output_type": "stream",
     "text": [
      "206it [27:11,  4.22s/it]"
     ]
    },
    {
     "name": "stdout",
     "output_type": "stream",
     "text": [
      "Violin Caprice No. 3 in E Minor\n"
     ]
    },
    {
     "name": "stderr",
     "output_type": "stream",
     "text": [
      "209it [27:29,  5.27s/it]"
     ]
    },
    {
     "name": "stdout",
     "output_type": "stream",
     "text": [
      "Siegfried's Funeral March From the Opera \"Götterdämmerung\"\n"
     ]
    },
    {
     "name": "stderr",
     "output_type": "stream",
     "text": [
      "210it [27:36,  5.56s/it]"
     ]
    },
    {
     "name": "stdout",
     "output_type": "stream",
     "text": [
      "Overture to the Opera \"Parsifal\"\n"
     ]
    },
    {
     "name": "stderr",
     "output_type": "stream",
     "text": [
      "211it [27:41,  5.38s/it]"
     ]
    },
    {
     "name": "stdout",
     "output_type": "stream",
     "text": [
      "Étude after Paganini's 11th Caprice, Op. 3, No. 3\n"
     ]
    },
    {
     "name": "stderr",
     "output_type": "stream",
     "text": [
      "212it [27:46,  5.30s/it]"
     ]
    },
    {
     "name": "stdout",
     "output_type": "stream",
     "text": [
      "Étude after Paganini's 9th Caprice, Op. 3, No. 2\n"
     ]
    },
    {
     "name": "stderr",
     "output_type": "stream",
     "text": [
      "213it [27:55,  6.49s/it]"
     ]
    },
    {
     "name": "stdout",
     "output_type": "stream",
     "text": [
      "Étude after Paganini's 5th Caprice, Op. 3, No. 1\n"
     ]
    },
    {
     "name": "stderr",
     "output_type": "stream",
     "text": [
      "245it [32:06,  7.33s/it]"
     ]
    },
    {
     "name": "stdout",
     "output_type": "stream",
     "text": [
      "Winterreise, No.10 - Rast\n"
     ]
    },
    {
     "name": "stderr",
     "output_type": "stream",
     "text": [
      "252it [32:58,  6.60s/it]"
     ]
    },
    {
     "name": "stdout",
     "output_type": "stream",
     "text": [
      "6 Lieder, Op.9, No.4 - Die frühen Gräber\n"
     ]
    },
    {
     "name": "stderr",
     "output_type": "stream",
     "text": [
      "258it [33:40,  6.24s/it]"
     ]
    },
    {
     "name": "stdout",
     "output_type": "stream",
     "text": [
      "Lyric Pieces, Op.38, No.4 'Halling' (Norwegian Dance)\n"
     ]
    },
    {
     "name": "stderr",
     "output_type": "stream",
     "text": [
      "262it [34:08,  6.33s/it]"
     ]
    },
    {
     "name": "stdout",
     "output_type": "stream",
     "text": [
      "Overture from \"A Midsummer's Night Dream Incidental Music\", Op. 61\n"
     ]
    },
    {
     "name": "stderr",
     "output_type": "stream",
     "text": [
      "270it [35:22,  7.86s/it]\n"
     ]
    },
    {
     "ename": "ElementClickInterceptedException",
     "evalue": "Message: element click intercepted: Element <iframe id=\"dext5uploader_frame_dext5upload\" title=\"DEXT5Upload dext5upload\" frameborder=\"0\" src=\"\" style=\"width: 100%; height: 100%; border-width: 0px;\" cd_frame_id_=\"25b7f8886fdb5a8923aa7f60b7236f08\"></iframe> is not clickable at point (32, 141). Other element would receive the click: <div style=\"filter:alpha(opacity=50); opacity:0.5; -moz-opacity:0.5; -ms-filter:progid:DXImageTransform.Microsoft.Alpha(Opacity=50); -khtml-opacity: 0.5; background-color:black; z-index:1000; position:fixed; _position:absolute; left:0px; top:0px;overflow:hidden;width:100%;height:100%;\"></div>\n  (Session info: chrome=90.0.4430.212)\n",
     "output_type": "error",
     "traceback": [
      "\u001b[1;31m---------------------------------------------------------------------------\u001b[0m",
      "\u001b[1;31mElementClickInterceptedException\u001b[0m          Traceback (most recent call last)",
      "\u001b[1;32m<ipython-input-37-fec50773d5dc>\u001b[0m in \u001b[0;36m<module>\u001b[1;34m\u001b[0m\n\u001b[0;32m     26\u001b[0m         \u001b[0mdriver\u001b[0m\u001b[1;33m.\u001b[0m\u001b[0mswitch_to\u001b[0m\u001b[1;33m.\u001b[0m\u001b[0mwindow\u001b[0m\u001b[1;33m(\u001b[0m\u001b[0mdriver\u001b[0m\u001b[1;33m.\u001b[0m\u001b[0mwindow_handles\u001b[0m\u001b[1;33m[\u001b[0m\u001b[1;36m0\u001b[0m\u001b[1;33m]\u001b[0m\u001b[1;33m)\u001b[0m\u001b[1;33m\u001b[0m\u001b[1;33m\u001b[0m\u001b[0m\n\u001b[0;32m     27\u001b[0m         \u001b[1;32mcontinue\u001b[0m\u001b[1;33m\u001b[0m\u001b[1;33m\u001b[0m\u001b[0m\n\u001b[1;32m---> 28\u001b[1;33m     downloadmp3(driver.find_elements_by_css_selector('#file_list > li > ul > li.fname > span'),\n\u001b[0m\u001b[0;32m     29\u001b[0m                 driver.find_elements_by_css_selector('#file_list > li > ul > li.input_chk'))\n\u001b[0;32m     30\u001b[0m     \u001b[0mdriver\u001b[0m\u001b[1;33m.\u001b[0m\u001b[0mswitch_to\u001b[0m\u001b[1;33m.\u001b[0m\u001b[0mwindow\u001b[0m\u001b[1;33m(\u001b[0m\u001b[0mdriver\u001b[0m\u001b[1;33m.\u001b[0m\u001b[0mwindow_handles\u001b[0m\u001b[1;33m[\u001b[0m\u001b[1;36m0\u001b[0m\u001b[1;33m]\u001b[0m\u001b[1;33m)\u001b[0m\u001b[1;33m\u001b[0m\u001b[1;33m\u001b[0m\u001b[0m\n",
      "\u001b[1;32m<ipython-input-5-95185d69307f>\u001b[0m in \u001b[0;36mdownloadmp3\u001b[1;34m(names, checkboxes)\u001b[0m\n\u001b[0;32m      3\u001b[0m     \u001b[1;32mfor\u001b[0m \u001b[0mname\u001b[0m \u001b[1;32min\u001b[0m \u001b[0mnames\u001b[0m\u001b[1;33m:\u001b[0m\u001b[1;33m\u001b[0m\u001b[1;33m\u001b[0m\u001b[0m\n\u001b[0;32m      4\u001b[0m         \u001b[1;32mif\u001b[0m \u001b[0mname\u001b[0m\u001b[1;33m.\u001b[0m\u001b[0mtext\u001b[0m\u001b[1;33m[\u001b[0m\u001b[1;33m-\u001b[0m\u001b[1;36m3\u001b[0m\u001b[1;33m:\u001b[0m\u001b[1;33m]\u001b[0m \u001b[1;32min\u001b[0m \u001b[1;33m[\u001b[0m\u001b[1;34m'mp3'\u001b[0m\u001b[1;33m,\u001b[0m \u001b[1;34m'wav'\u001b[0m\u001b[1;33m]\u001b[0m\u001b[1;33m:\u001b[0m\u001b[1;33m\u001b[0m\u001b[1;33m\u001b[0m\u001b[0m\n\u001b[1;32m----> 5\u001b[1;33m             \u001b[0mcheckboxes\u001b[0m\u001b[1;33m[\u001b[0m\u001b[0mcnt\u001b[0m\u001b[1;33m]\u001b[0m\u001b[1;33m.\u001b[0m\u001b[0mclick\u001b[0m\u001b[1;33m(\u001b[0m\u001b[1;33m)\u001b[0m\u001b[1;33m\u001b[0m\u001b[1;33m\u001b[0m\u001b[0m\n\u001b[0m\u001b[0;32m      6\u001b[0m             \u001b[0mdriver\u001b[0m\u001b[1;33m.\u001b[0m\u001b[0mfind_element_by_css_selector\u001b[0m\u001b[1;33m(\u001b[0m\u001b[1;34m'#button_download'\u001b[0m\u001b[1;33m)\u001b[0m\u001b[1;33m.\u001b[0m\u001b[0mclick\u001b[0m\u001b[1;33m(\u001b[0m\u001b[1;33m)\u001b[0m\u001b[1;33m\u001b[0m\u001b[1;33m\u001b[0m\u001b[0m\n\u001b[0;32m      7\u001b[0m         \u001b[0mcnt\u001b[0m \u001b[1;33m+=\u001b[0m \u001b[1;36m1\u001b[0m\u001b[1;33m\u001b[0m\u001b[1;33m\u001b[0m\u001b[0m\n",
      "\u001b[1;32m~\\anaconda3\\lib\\site-packages\\selenium\\webdriver\\remote\\webelement.py\u001b[0m in \u001b[0;36mclick\u001b[1;34m(self)\u001b[0m\n\u001b[0;32m     78\u001b[0m     \u001b[1;32mdef\u001b[0m \u001b[0mclick\u001b[0m\u001b[1;33m(\u001b[0m\u001b[0mself\u001b[0m\u001b[1;33m)\u001b[0m\u001b[1;33m:\u001b[0m\u001b[1;33m\u001b[0m\u001b[1;33m\u001b[0m\u001b[0m\n\u001b[0;32m     79\u001b[0m         \u001b[1;34m\"\"\"Clicks the element.\"\"\"\u001b[0m\u001b[1;33m\u001b[0m\u001b[1;33m\u001b[0m\u001b[0m\n\u001b[1;32m---> 80\u001b[1;33m         \u001b[0mself\u001b[0m\u001b[1;33m.\u001b[0m\u001b[0m_execute\u001b[0m\u001b[1;33m(\u001b[0m\u001b[0mCommand\u001b[0m\u001b[1;33m.\u001b[0m\u001b[0mCLICK_ELEMENT\u001b[0m\u001b[1;33m)\u001b[0m\u001b[1;33m\u001b[0m\u001b[1;33m\u001b[0m\u001b[0m\n\u001b[0m\u001b[0;32m     81\u001b[0m \u001b[1;33m\u001b[0m\u001b[0m\n\u001b[0;32m     82\u001b[0m     \u001b[1;32mdef\u001b[0m \u001b[0msubmit\u001b[0m\u001b[1;33m(\u001b[0m\u001b[0mself\u001b[0m\u001b[1;33m)\u001b[0m\u001b[1;33m:\u001b[0m\u001b[1;33m\u001b[0m\u001b[1;33m\u001b[0m\u001b[0m\n",
      "\u001b[1;32m~\\anaconda3\\lib\\site-packages\\selenium\\webdriver\\remote\\webelement.py\u001b[0m in \u001b[0;36m_execute\u001b[1;34m(self, command, params)\u001b[0m\n\u001b[0;32m    631\u001b[0m             \u001b[0mparams\u001b[0m \u001b[1;33m=\u001b[0m \u001b[1;33m{\u001b[0m\u001b[1;33m}\u001b[0m\u001b[1;33m\u001b[0m\u001b[1;33m\u001b[0m\u001b[0m\n\u001b[0;32m    632\u001b[0m         \u001b[0mparams\u001b[0m\u001b[1;33m[\u001b[0m\u001b[1;34m'id'\u001b[0m\u001b[1;33m]\u001b[0m \u001b[1;33m=\u001b[0m \u001b[0mself\u001b[0m\u001b[1;33m.\u001b[0m\u001b[0m_id\u001b[0m\u001b[1;33m\u001b[0m\u001b[1;33m\u001b[0m\u001b[0m\n\u001b[1;32m--> 633\u001b[1;33m         \u001b[1;32mreturn\u001b[0m \u001b[0mself\u001b[0m\u001b[1;33m.\u001b[0m\u001b[0m_parent\u001b[0m\u001b[1;33m.\u001b[0m\u001b[0mexecute\u001b[0m\u001b[1;33m(\u001b[0m\u001b[0mcommand\u001b[0m\u001b[1;33m,\u001b[0m \u001b[0mparams\u001b[0m\u001b[1;33m)\u001b[0m\u001b[1;33m\u001b[0m\u001b[1;33m\u001b[0m\u001b[0m\n\u001b[0m\u001b[0;32m    634\u001b[0m \u001b[1;33m\u001b[0m\u001b[0m\n\u001b[0;32m    635\u001b[0m     \u001b[1;32mdef\u001b[0m \u001b[0mfind_element\u001b[0m\u001b[1;33m(\u001b[0m\u001b[0mself\u001b[0m\u001b[1;33m,\u001b[0m \u001b[0mby\u001b[0m\u001b[1;33m=\u001b[0m\u001b[0mBy\u001b[0m\u001b[1;33m.\u001b[0m\u001b[0mID\u001b[0m\u001b[1;33m,\u001b[0m \u001b[0mvalue\u001b[0m\u001b[1;33m=\u001b[0m\u001b[1;32mNone\u001b[0m\u001b[1;33m)\u001b[0m\u001b[1;33m:\u001b[0m\u001b[1;33m\u001b[0m\u001b[1;33m\u001b[0m\u001b[0m\n",
      "\u001b[1;32m~\\anaconda3\\lib\\site-packages\\selenium\\webdriver\\remote\\webdriver.py\u001b[0m in \u001b[0;36mexecute\u001b[1;34m(self, driver_command, params)\u001b[0m\n\u001b[0;32m    319\u001b[0m         \u001b[0mresponse\u001b[0m \u001b[1;33m=\u001b[0m \u001b[0mself\u001b[0m\u001b[1;33m.\u001b[0m\u001b[0mcommand_executor\u001b[0m\u001b[1;33m.\u001b[0m\u001b[0mexecute\u001b[0m\u001b[1;33m(\u001b[0m\u001b[0mdriver_command\u001b[0m\u001b[1;33m,\u001b[0m \u001b[0mparams\u001b[0m\u001b[1;33m)\u001b[0m\u001b[1;33m\u001b[0m\u001b[1;33m\u001b[0m\u001b[0m\n\u001b[0;32m    320\u001b[0m         \u001b[1;32mif\u001b[0m \u001b[0mresponse\u001b[0m\u001b[1;33m:\u001b[0m\u001b[1;33m\u001b[0m\u001b[1;33m\u001b[0m\u001b[0m\n\u001b[1;32m--> 321\u001b[1;33m             \u001b[0mself\u001b[0m\u001b[1;33m.\u001b[0m\u001b[0merror_handler\u001b[0m\u001b[1;33m.\u001b[0m\u001b[0mcheck_response\u001b[0m\u001b[1;33m(\u001b[0m\u001b[0mresponse\u001b[0m\u001b[1;33m)\u001b[0m\u001b[1;33m\u001b[0m\u001b[1;33m\u001b[0m\u001b[0m\n\u001b[0m\u001b[0;32m    322\u001b[0m             response['value'] = self._unwrap_value(\n\u001b[0;32m    323\u001b[0m                 response.get('value', None))\n",
      "\u001b[1;32m~\\anaconda3\\lib\\site-packages\\selenium\\webdriver\\remote\\errorhandler.py\u001b[0m in \u001b[0;36mcheck_response\u001b[1;34m(self, response)\u001b[0m\n\u001b[0;32m    240\u001b[0m                 \u001b[0malert_text\u001b[0m \u001b[1;33m=\u001b[0m \u001b[0mvalue\u001b[0m\u001b[1;33m[\u001b[0m\u001b[1;34m'alert'\u001b[0m\u001b[1;33m]\u001b[0m\u001b[1;33m.\u001b[0m\u001b[0mget\u001b[0m\u001b[1;33m(\u001b[0m\u001b[1;34m'text'\u001b[0m\u001b[1;33m)\u001b[0m\u001b[1;33m\u001b[0m\u001b[1;33m\u001b[0m\u001b[0m\n\u001b[0;32m    241\u001b[0m             \u001b[1;32mraise\u001b[0m \u001b[0mexception_class\u001b[0m\u001b[1;33m(\u001b[0m\u001b[0mmessage\u001b[0m\u001b[1;33m,\u001b[0m \u001b[0mscreen\u001b[0m\u001b[1;33m,\u001b[0m \u001b[0mstacktrace\u001b[0m\u001b[1;33m,\u001b[0m \u001b[0malert_text\u001b[0m\u001b[1;33m)\u001b[0m\u001b[1;33m\u001b[0m\u001b[1;33m\u001b[0m\u001b[0m\n\u001b[1;32m--> 242\u001b[1;33m         \u001b[1;32mraise\u001b[0m \u001b[0mexception_class\u001b[0m\u001b[1;33m(\u001b[0m\u001b[0mmessage\u001b[0m\u001b[1;33m,\u001b[0m \u001b[0mscreen\u001b[0m\u001b[1;33m,\u001b[0m \u001b[0mstacktrace\u001b[0m\u001b[1;33m)\u001b[0m\u001b[1;33m\u001b[0m\u001b[1;33m\u001b[0m\u001b[0m\n\u001b[0m\u001b[0;32m    243\u001b[0m \u001b[1;33m\u001b[0m\u001b[0m\n\u001b[0;32m    244\u001b[0m     \u001b[1;32mdef\u001b[0m \u001b[0m_value_or_default\u001b[0m\u001b[1;33m(\u001b[0m\u001b[0mself\u001b[0m\u001b[1;33m,\u001b[0m \u001b[0mobj\u001b[0m\u001b[1;33m,\u001b[0m \u001b[0mkey\u001b[0m\u001b[1;33m,\u001b[0m \u001b[0mdefault\u001b[0m\u001b[1;33m)\u001b[0m\u001b[1;33m:\u001b[0m\u001b[1;33m\u001b[0m\u001b[1;33m\u001b[0m\u001b[0m\n",
      "\u001b[1;31mElementClickInterceptedException\u001b[0m: Message: element click intercepted: Element <iframe id=\"dext5uploader_frame_dext5upload\" title=\"DEXT5Upload dext5upload\" frameborder=\"0\" src=\"\" style=\"width: 100%; height: 100%; border-width: 0px;\" cd_frame_id_=\"25b7f8886fdb5a8923aa7f60b7236f08\"></iframe> is not clickable at point (32, 141). Other element would receive the click: <div style=\"filter:alpha(opacity=50); opacity:0.5; -moz-opacity:0.5; -ms-filter:progid:DXImageTransform.Microsoft.Alpha(Opacity=50); -khtml-opacity: 0.5; background-color:black; z-index:1000; position:fixed; _position:absolute; left:0px; top:0px;overflow:hidden;width:100%;height:100%;\"></div>\n  (Session info: chrome=90.0.4430.212)\n"
     ]
    }
   ],
   "source": [
    "URL = 'https://gongu.copyright.or.kr/gongu/wrt/wrtCl/listWrtSound.do?menuNo=200020&pageIndex=1&searchWrd='\n",
    "for mtitle, tag1, tag2, tag3 in tqdm(zip(list(music['title']), list(music['tag1']), list(music['tag2']), list(music['tag3']))):\n",
    "    driver.get(URL + mtitle)\n",
    "    time.sleep(2)\n",
    "    titles = driver.find_elements_by_css_selector('ul > li > div:nth-child(1) > div.col-md-8 > span.tit > a')\n",
    "    tags1 = driver.find_elements_by_css_selector(\"#contents > div.bbsList.style2 > ul > li > div:nth-child(3) > div.col-md-9 > div > ul > li:nth-child(1)\")\n",
    "    tags2 = driver.find_elements_by_css_selector(\"#contents > div.bbsList.style2 > ul > li > div:nth-child(3) > div.col-md-9 > div > ul > li:nth-child(2)\")\n",
    "    tags3 = driver.find_elements_by_css_selector(\"#contents > div.bbsList.style2 > ul > li > div:nth-child(3) > div.col-md-9 > div > ul > li:nth-child(3)\")\n",
    "    pagein(mtitle, tag1, tag2, tag3, titles, tags1, tags2, tags3)\n",
    "    time.sleep(1)\n",
    "    try:\n",
    "        driver.find_element_by_css_selector('#chkDownAt').click()\n",
    "    except:\n",
    "        print(mtitle)\n",
    "        continue\n",
    "    driver.find_element_by_css_selector('#downChkBtn').click()\n",
    "    time.sleep(1)\n",
    "    driver.switch_to.window(driver.window_handles[-1])\n",
    "    try:\n",
    "        driver.switch_to.frame(driver.find_elements_by_tag_name(\"iframe\")[0])\n",
    "    except:\n",
    "        print(mtitle)\n",
    "        driver.switch_to.window(driver.window_handles[0])\n",
    "        continue        \n",
    "    if driver.find_elements_by_css_selector('#file_list > li > ul > li.fname > span') == []:\n",
    "        driver.switch_to.window(driver.window_handles[0])\n",
    "        continue\n",
    "    downloadmp3(driver.find_elements_by_css_selector('#file_list > li > ul > li.fname > span'),\n",
    "                driver.find_elements_by_css_selector('#file_list > li > ul > li.input_chk'))\n",
    "    driver.switch_to.window(driver.window_handles[0])\n",
    "    time.sleep(1)"
   ]
  },
  {
   "cell_type": "code",
   "execution_count": 44,
   "metadata": {},
   "outputs": [
    {
     "data": {
      "text/html": [
       "<div>\n",
       "<style scoped>\n",
       "    .dataframe tbody tr th:only-of-type {\n",
       "        vertical-align: middle;\n",
       "    }\n",
       "\n",
       "    .dataframe tbody tr th {\n",
       "        vertical-align: top;\n",
       "    }\n",
       "\n",
       "    .dataframe thead th {\n",
       "        text-align: right;\n",
       "    }\n",
       "</style>\n",
       "<table border=\"1\" class=\"dataframe\">\n",
       "  <thead>\n",
       "    <tr style=\"text-align: right;\">\n",
       "      <th></th>\n",
       "      <th>title</th>\n",
       "      <th>recommend</th>\n",
       "      <th>clicks</th>\n",
       "      <th>download</th>\n",
       "      <th>tag1</th>\n",
       "      <th>tag2</th>\n",
       "      <th>tag3</th>\n",
       "      <th>tag4</th>\n",
       "      <th>tag5</th>\n",
       "      <th>tag6</th>\n",
       "      <th>tag7</th>\n",
       "      <th>tag8</th>\n",
       "      <th>tag9</th>\n",
       "      <th>tag10</th>\n",
       "      <th>emotion</th>\n",
       "    </tr>\n",
       "  </thead>\n",
       "  <tbody>\n",
       "    <tr>\n",
       "      <th>1357</th>\n",
       "      <td>His Name(히즈 네임)</td>\n",
       "      <td>16</td>\n",
       "      <td>6359</td>\n",
       "      <td>3420</td>\n",
       "      <td>음악</td>\n",
       "      <td>배경음악</td>\n",
       "      <td>순수음악</td>\n",
       "      <td>WHITE</td>\n",
       "      <td>깔끔함</td>\n",
       "      <td>기타(ETC)</td>\n",
       "      <td>어쿠스틱</td>\n",
       "      <td>드라마</td>\n",
       "      <td>DRAMA</td>\n",
       "      <td>느리게</td>\n",
       "      <td>우울</td>\n",
       "    </tr>\n",
       "  </tbody>\n",
       "</table>\n",
       "</div>"
      ],
      "text/plain": [
       "                title  recommend  clicks  download tag1  tag2  tag3   tag4  \\\n",
       "1357  His Name(히즈 네임)         16    6359      3420   음악  배경음악  순수음악  WHITE   \n",
       "\n",
       "     tag5     tag6  tag7 tag8   tag9 tag10 emotion  \n",
       "1357  깔끔함  기타(ETC)  어쿠스틱  드라마  DRAMA   느리게      우울  "
      ]
     },
     "execution_count": 44,
     "metadata": {},
     "output_type": "execute_result"
    }
   ],
   "source": [
    "music[music['title'] == 'His Name(히즈 네임)']"
   ]
  },
  {
   "cell_type": "code",
   "execution_count": 55,
   "metadata": {},
   "outputs": [],
   "source": [
    "music = music.iloc[1:, :]"
   ]
  },
  {
   "cell_type": "code",
   "execution_count": 64,
   "metadata": {
    "tags": []
   },
   "outputs": [
    {
     "name": "stderr",
     "output_type": "stream",
     "text": [
      "16it [02:16,  8.83s/it]"
     ]
    },
    {
     "name": "stdout",
     "output_type": "stream",
     "text": [
      "소곰쟁이\n"
     ]
    },
    {
     "name": "stderr",
     "output_type": "stream",
     "text": [
      "17it [02:22,  7.98s/it]"
     ]
    },
    {
     "name": "stdout",
     "output_type": "stream",
     "text": [
      "쪼각빗\n"
     ]
    },
    {
     "name": "stderr",
     "output_type": "stream",
     "text": [
      "18it [02:25,  6.54s/it]"
     ]
    },
    {
     "name": "stdout",
     "output_type": "stream",
     "text": [
      "고향의 봄\n"
     ]
    },
    {
     "name": "stderr",
     "output_type": "stream",
     "text": [
      "19it [02:31,  6.14s/it]"
     ]
    },
    {
     "name": "stdout",
     "output_type": "stream",
     "text": [
      "가을\n"
     ]
    },
    {
     "name": "stderr",
     "output_type": "stream",
     "text": [
      "20it [02:35,  5.52s/it]"
     ]
    },
    {
     "name": "stdout",
     "output_type": "stream",
     "text": [
      "꽃밭\n"
     ]
    },
    {
     "name": "stderr",
     "output_type": "stream",
     "text": [
      "21it [02:44,  7.81s/it]\n"
     ]
    }
   ],
   "source": [
    "URL = 'https://gongu.copyright.or.kr/gongu/wrt/wrtCl/listWrtSound.do?menuNo=200020&pageIndex=1&searchWrd='\n",
    "for mtitle, tag1, tag2, tag3 in tqdm(zip(list(music['title']), list(music['tag1']), list(music['tag2']), list(music['tag3']))):\n",
    "    driver.get(URL + mtitle)\n",
    "    time.sleep(2)\n",
    "    titles = driver.find_elements_by_css_selector('ul > li > div:nth-child(1) > div.col-md-8 > span.tit > a')\n",
    "    tags1 = driver.find_elements_by_css_selector(\"#contents > div.bbsList.style2 > ul > li > div:nth-child(3) > div.col-md-9 > div > ul > li:nth-child(1)\")\n",
    "    tags2 = driver.find_elements_by_css_selector(\"#contents > div.bbsList.style2 > ul > li > div:nth-child(3) > div.col-md-9 > div > ul > li:nth-child(2)\")\n",
    "    tags3 = driver.find_elements_by_css_selector(\"#contents > div.bbsList.style2 > ul > li > div:nth-child(3) > div.col-md-9 > div > ul > li:nth-child(3)\")\n",
    "    pagein(mtitle, tag1, tag2, tag3, titles, tags1, tags2, tags3)\n",
    "    time.sleep(1)\n",
    "    try:\n",
    "        driver.find_element_by_css_selector('#chkDownAt').click()\n",
    "    except:\n",
    "        print(mtitle)\n",
    "        continue\n",
    "    driver.find_element_by_css_selector('#downChkBtn').click()\n",
    "    time.sleep(1)\n",
    "    driver.switch_to.window(driver.window_handles[-1])\n",
    "    try:\n",
    "        driver.switch_to.frame(driver.find_elements_by_tag_name(\"iframe\")[0])\n",
    "    except:\n",
    "        print(mtitle)\n",
    "        driver.switch_to.window(driver.window_handles[0])\n",
    "        continue        \n",
    "    if driver.find_elements_by_css_selector('#file_list > li > ul > li.fname > span') == []:\n",
    "        driver.switch_to.window(driver.window_handles[0])\n",
    "        continue\n",
    "    downloadmp3(driver.find_elements_by_css_selector('#file_list > li > ul > li.fname > span'),\n",
    "                driver.find_elements_by_css_selector('#file_list > li > ul > li.input_chk'))\n",
    "    driver.switch_to.window(driver.window_handles[0])\n",
    "    time.sleep(1)"
   ]
  },
  {
   "cell_type": "code",
   "execution_count": 32,
   "metadata": {
    "tags": []
   },
   "outputs": [
    {
     "name": "stderr",
     "output_type": "stream",
     "text": [
      "44it [16:12, 22.10s/it]\n"
     ]
    },
    {
     "ename": "TimeoutException",
     "evalue": "Message: timeout: Timed out receiving message from renderer: 299.870\n  (Session info: chrome=91.0.4472.77)\n",
     "output_type": "error",
     "traceback": [
      "\u001b[1;31m---------------------------------------------------------------------------\u001b[0m",
      "\u001b[1;31mTimeoutException\u001b[0m                          Traceback (most recent call last)",
      "\u001b[1;32m<ipython-input-32-76e7cc0ef100>\u001b[0m in \u001b[0;36m<module>\u001b[1;34m\u001b[0m\n\u001b[0;32m      3\u001b[0m \u001b[0mfile_titles\u001b[0m \u001b[1;33m=\u001b[0m \u001b[1;33m[\u001b[0m\u001b[1;33m]\u001b[0m\u001b[1;33m\u001b[0m\u001b[1;33m\u001b[0m\u001b[0m\n\u001b[0;32m      4\u001b[0m \u001b[1;32mfor\u001b[0m \u001b[0mmtitle\u001b[0m\u001b[1;33m,\u001b[0m \u001b[0mtag1\u001b[0m\u001b[1;33m,\u001b[0m \u001b[0mtag2\u001b[0m\u001b[1;33m,\u001b[0m \u001b[0mtag3\u001b[0m \u001b[1;32min\u001b[0m \u001b[0mtqdm\u001b[0m\u001b[1;33m(\u001b[0m\u001b[0mzip\u001b[0m\u001b[1;33m(\u001b[0m\u001b[0mlist\u001b[0m\u001b[1;33m(\u001b[0m\u001b[0mmusic\u001b[0m\u001b[1;33m[\u001b[0m\u001b[1;34m'title'\u001b[0m\u001b[1;33m]\u001b[0m\u001b[1;33m)\u001b[0m\u001b[1;33m,\u001b[0m \u001b[0mlist\u001b[0m\u001b[1;33m(\u001b[0m\u001b[0mmusic\u001b[0m\u001b[1;33m[\u001b[0m\u001b[1;34m'tag1'\u001b[0m\u001b[1;33m]\u001b[0m\u001b[1;33m)\u001b[0m\u001b[1;33m,\u001b[0m \u001b[0mlist\u001b[0m\u001b[1;33m(\u001b[0m\u001b[0mmusic\u001b[0m\u001b[1;33m[\u001b[0m\u001b[1;34m'tag2'\u001b[0m\u001b[1;33m]\u001b[0m\u001b[1;33m)\u001b[0m\u001b[1;33m,\u001b[0m \u001b[0mlist\u001b[0m\u001b[1;33m(\u001b[0m\u001b[0mmusic\u001b[0m\u001b[1;33m[\u001b[0m\u001b[1;34m'tag3'\u001b[0m\u001b[1;33m]\u001b[0m\u001b[1;33m)\u001b[0m\u001b[1;33m)\u001b[0m\u001b[1;33m)\u001b[0m\u001b[1;33m:\u001b[0m\u001b[1;33m\u001b[0m\u001b[1;33m\u001b[0m\u001b[0m\n\u001b[1;32m----> 5\u001b[1;33m     \u001b[0mdriver\u001b[0m\u001b[1;33m.\u001b[0m\u001b[0mget\u001b[0m\u001b[1;33m(\u001b[0m\u001b[0mURL\u001b[0m \u001b[1;33m+\u001b[0m \u001b[0mmtitle\u001b[0m\u001b[1;33m)\u001b[0m\u001b[1;33m\u001b[0m\u001b[1;33m\u001b[0m\u001b[0m\n\u001b[0m\u001b[0;32m      6\u001b[0m     \u001b[0mtime\u001b[0m\u001b[1;33m.\u001b[0m\u001b[0msleep\u001b[0m\u001b[1;33m(\u001b[0m\u001b[1;36m2\u001b[0m\u001b[1;33m)\u001b[0m\u001b[1;33m\u001b[0m\u001b[1;33m\u001b[0m\u001b[0m\n\u001b[0;32m      7\u001b[0m     \u001b[0mtitles\u001b[0m \u001b[1;33m=\u001b[0m \u001b[0mdriver\u001b[0m\u001b[1;33m.\u001b[0m\u001b[0mfind_elements_by_css_selector\u001b[0m\u001b[1;33m(\u001b[0m\u001b[1;34m'ul > li > div:nth-child(1) > div.col-md-8 > span.tit > a'\u001b[0m\u001b[1;33m)\u001b[0m\u001b[1;33m\u001b[0m\u001b[1;33m\u001b[0m\u001b[0m\n",
      "\u001b[1;32m~\\anaconda3\\lib\\site-packages\\selenium\\webdriver\\remote\\webdriver.py\u001b[0m in \u001b[0;36mget\u001b[1;34m(self, url)\u001b[0m\n\u001b[0;32m    331\u001b[0m         \u001b[0mLoads\u001b[0m \u001b[0ma\u001b[0m \u001b[0mweb\u001b[0m \u001b[0mpage\u001b[0m \u001b[1;32min\u001b[0m \u001b[0mthe\u001b[0m \u001b[0mcurrent\u001b[0m \u001b[0mbrowser\u001b[0m \u001b[0msession\u001b[0m\u001b[1;33m.\u001b[0m\u001b[1;33m\u001b[0m\u001b[1;33m\u001b[0m\u001b[0m\n\u001b[0;32m    332\u001b[0m         \"\"\"\n\u001b[1;32m--> 333\u001b[1;33m         \u001b[0mself\u001b[0m\u001b[1;33m.\u001b[0m\u001b[0mexecute\u001b[0m\u001b[1;33m(\u001b[0m\u001b[0mCommand\u001b[0m\u001b[1;33m.\u001b[0m\u001b[0mGET\u001b[0m\u001b[1;33m,\u001b[0m \u001b[1;33m{\u001b[0m\u001b[1;34m'url'\u001b[0m\u001b[1;33m:\u001b[0m \u001b[0murl\u001b[0m\u001b[1;33m}\u001b[0m\u001b[1;33m)\u001b[0m\u001b[1;33m\u001b[0m\u001b[1;33m\u001b[0m\u001b[0m\n\u001b[0m\u001b[0;32m    334\u001b[0m \u001b[1;33m\u001b[0m\u001b[0m\n\u001b[0;32m    335\u001b[0m     \u001b[1;33m@\u001b[0m\u001b[0mproperty\u001b[0m\u001b[1;33m\u001b[0m\u001b[1;33m\u001b[0m\u001b[0m\n",
      "\u001b[1;32m~\\anaconda3\\lib\\site-packages\\selenium\\webdriver\\remote\\webdriver.py\u001b[0m in \u001b[0;36mexecute\u001b[1;34m(self, driver_command, params)\u001b[0m\n\u001b[0;32m    319\u001b[0m         \u001b[0mresponse\u001b[0m \u001b[1;33m=\u001b[0m \u001b[0mself\u001b[0m\u001b[1;33m.\u001b[0m\u001b[0mcommand_executor\u001b[0m\u001b[1;33m.\u001b[0m\u001b[0mexecute\u001b[0m\u001b[1;33m(\u001b[0m\u001b[0mdriver_command\u001b[0m\u001b[1;33m,\u001b[0m \u001b[0mparams\u001b[0m\u001b[1;33m)\u001b[0m\u001b[1;33m\u001b[0m\u001b[1;33m\u001b[0m\u001b[0m\n\u001b[0;32m    320\u001b[0m         \u001b[1;32mif\u001b[0m \u001b[0mresponse\u001b[0m\u001b[1;33m:\u001b[0m\u001b[1;33m\u001b[0m\u001b[1;33m\u001b[0m\u001b[0m\n\u001b[1;32m--> 321\u001b[1;33m             \u001b[0mself\u001b[0m\u001b[1;33m.\u001b[0m\u001b[0merror_handler\u001b[0m\u001b[1;33m.\u001b[0m\u001b[0mcheck_response\u001b[0m\u001b[1;33m(\u001b[0m\u001b[0mresponse\u001b[0m\u001b[1;33m)\u001b[0m\u001b[1;33m\u001b[0m\u001b[1;33m\u001b[0m\u001b[0m\n\u001b[0m\u001b[0;32m    322\u001b[0m             response['value'] = self._unwrap_value(\n\u001b[0;32m    323\u001b[0m                 response.get('value', None))\n",
      "\u001b[1;32m~\\anaconda3\\lib\\site-packages\\selenium\\webdriver\\remote\\errorhandler.py\u001b[0m in \u001b[0;36mcheck_response\u001b[1;34m(self, response)\u001b[0m\n\u001b[0;32m    240\u001b[0m                 \u001b[0malert_text\u001b[0m \u001b[1;33m=\u001b[0m \u001b[0mvalue\u001b[0m\u001b[1;33m[\u001b[0m\u001b[1;34m'alert'\u001b[0m\u001b[1;33m]\u001b[0m\u001b[1;33m.\u001b[0m\u001b[0mget\u001b[0m\u001b[1;33m(\u001b[0m\u001b[1;34m'text'\u001b[0m\u001b[1;33m)\u001b[0m\u001b[1;33m\u001b[0m\u001b[1;33m\u001b[0m\u001b[0m\n\u001b[0;32m    241\u001b[0m             \u001b[1;32mraise\u001b[0m \u001b[0mexception_class\u001b[0m\u001b[1;33m(\u001b[0m\u001b[0mmessage\u001b[0m\u001b[1;33m,\u001b[0m \u001b[0mscreen\u001b[0m\u001b[1;33m,\u001b[0m \u001b[0mstacktrace\u001b[0m\u001b[1;33m,\u001b[0m \u001b[0malert_text\u001b[0m\u001b[1;33m)\u001b[0m\u001b[1;33m\u001b[0m\u001b[1;33m\u001b[0m\u001b[0m\n\u001b[1;32m--> 242\u001b[1;33m         \u001b[1;32mraise\u001b[0m \u001b[0mexception_class\u001b[0m\u001b[1;33m(\u001b[0m\u001b[0mmessage\u001b[0m\u001b[1;33m,\u001b[0m \u001b[0mscreen\u001b[0m\u001b[1;33m,\u001b[0m \u001b[0mstacktrace\u001b[0m\u001b[1;33m)\u001b[0m\u001b[1;33m\u001b[0m\u001b[1;33m\u001b[0m\u001b[0m\n\u001b[0m\u001b[0;32m    243\u001b[0m \u001b[1;33m\u001b[0m\u001b[0m\n\u001b[0;32m    244\u001b[0m     \u001b[1;32mdef\u001b[0m \u001b[0m_value_or_default\u001b[0m\u001b[1;33m(\u001b[0m\u001b[0mself\u001b[0m\u001b[1;33m,\u001b[0m \u001b[0mobj\u001b[0m\u001b[1;33m,\u001b[0m \u001b[0mkey\u001b[0m\u001b[1;33m,\u001b[0m \u001b[0mdefault\u001b[0m\u001b[1;33m)\u001b[0m\u001b[1;33m:\u001b[0m\u001b[1;33m\u001b[0m\u001b[1;33m\u001b[0m\u001b[0m\n",
      "\u001b[1;31mTimeoutException\u001b[0m: Message: timeout: Timed out receiving message from renderer: 299.870\n  (Session info: chrome=91.0.4472.77)\n"
     ]
    }
   ],
   "source": [
    "URL = 'https://gongu.copyright.or.kr/gongu/wrt/wrtCl/listWrtSound.do?menuNo=200020&pageIndex=1&searchWrd='\n",
    "music_titles = []\n",
    "file_titles = []\n",
    "for mtitle, tag1, tag2, tag3 in tqdm(zip(list(music['title']), list(music['tag1']), list(music['tag2']), list(music['tag3']))):\n",
    "    driver.get(URL + mtitle)\n",
    "    time.sleep(2)\n",
    "    titles = driver.find_elements_by_css_selector('ul > li > div:nth-child(1) > div.col-md-8 > span.tit > a')\n",
    "    tags1 = driver.find_elements_by_css_selector(\"#contents > div.bbsList.style2 > ul > li > div:nth-child(3) > div.col-md-9 > div > ul > li:nth-child(1)\")\n",
    "    tags2 = driver.find_elements_by_css_selector(\"#contents > div.bbsList.style2 > ul > li > div:nth-child(3) > div.col-md-9 > div > ul > li:nth-child(2)\")\n",
    "    tags3 = driver.find_elements_by_css_selector(\"#contents > div.bbsList.style2 > ul > li > div:nth-child(3) > div.col-md-9 > div > ul > li:nth-child(3)\")\n",
    "    pagein(mtitle, tag1, tag2, tag3, titles, tags1, tags2, tags3)\n",
    "    time.sleep(1)\n",
    "    try:\n",
    "        driver.find_element_by_css_selector('#chkDownAt').click()\n",
    "    except:\n",
    "        music_titles.append(mtitle)\n",
    "        file_titles.append(np.NaN)\n",
    "        continue\n",
    "    driver.find_element_by_css_selector('#downChkBtn').click()\n",
    "    time.sleep(1)\n",
    "    driver.switch_to.window(driver.window_handles[-1])\n",
    "    try:\n",
    "        driver.switch_to.frame(driver.find_elements_by_tag_name(\"iframe\")[0])\n",
    "    except:\n",
    "        music_titles.append(mtitle)\n",
    "        file_titles.append(np.NaN)\n",
    "        driver.switch_to.window(driver.window_handles[0])\n",
    "        continue        \n",
    "    if driver.find_elements_by_css_selector('#file_list > li > ul > li.fname > span') == []:\n",
    "        music_titles.append(mtitle)\n",
    "        file_titles.append(np.NaN)\n",
    "        driver.switch_to.window(driver.window_handles[0])\n",
    "        continue\n",
    "    cnt = 0\n",
    "    for name in driver.find_elements_by_css_selector('#file_list > li > ul > li.fname > span'):\n",
    "        if name.text[-3:] in ['mp3', 'wav']:\n",
    "            music_titles.append(mtitle)\n",
    "            file_titles.append(name.text)\n",
    "            break\n",
    "        cnt += 1\n",
    "    driver.switch_to.window(driver.window_handles[0])\n",
    "    time.sleep(1)"
   ]
  },
  {
   "cell_type": "code",
   "execution_count": 33,
   "metadata": {},
   "outputs": [
    {
     "data": {
      "text/plain": [
       "['4. Keyboard Concerto No. 5 in F Minor BWV 1056 - Largo_ 키보드 협주곡 제 5번 F단조 BWV 1056. 제2악장 라르고_ballad',\n",
       " \"9. Prelude, op.28-15(Rain Drop)_ 쇼팽 : 전주곡 15번 내림 라장조 작품번호 28-15 '빗방울'_ballad\",\n",
       " '2. Frolicher Landmann_ 행복한 농부_ragtime',\n",
       " '27. Kinderszenen Op.15 - VII. Traumerei_ 어린이의 정경 중 꿈 작품번호 15_ballad',\n",
       " '97. Symphony No. 5 in Cminor, Op.67_ 교향곡 제5번 다단조 [운명] OP.67_string',\n",
       " '11. The Swan(Le Cygne)_ 백조_fast swing',\n",
       " '94. Carmen Prelude_ 카르멘 서곡_string',\n",
       " '12. The Swan(Le Cygne)_ 백조_ballad',\n",
       " \"101. Serenade No.13 in G Major K525 'Eine Kleins Nachtmusik'_ 세레나데 제 13번 사장조 '아이네 클라이네 나흐트 무지크'_string\",\n",
       " \"102. Symphony No. 8 in B minor. D759 'Unfinished'_ 교향곡 8번 나단조 D759 '미완성'_string\",\n",
       " '23. Minuet In G Major BWV Anh. II 114_ 미뉴에트 사장조 BWV Anh. II 114_fast swing',\n",
       " '15. Sarabande_ 사라방드_easy listening',\n",
       " '17. Nocturne Op.9-2_ 녹턴 작품번호 9-2_funk',\n",
       " '34. Ave Maria_ 아베 마리아_ballad',\n",
       " '31. Songs my mother taught me op.55-4_ 어머니가 가르쳐 주신 노래 작품노래 55-4_ballad',\n",
       " \"29. Salut D'amour In E Major Op.12_ 사랑의 인사 마장조 작품번호 12_uptempo swing\",\n",
       " \"53. Etude No.3 In E Major Op.10-3 'Tristesse'_ 에튀드 제 3번 마장조 작품번호 10-3 '내 맘속을 울리는 그대'_bossa nova\",\n",
       " '55. Je Te Veux_ 난 그대를 원해요_ballad',\n",
       " \"37. Jaqueline Du Pre - Jacqueline's Tears_ 자클린의 눈물_ballad\",\n",
       " \"39. Jaqueline Du Pre - Jacqueline's Tears_ 자클린의 눈물_bossa nova\",\n",
       " '49. Liebestraum - Love Dream_ 사랑의 꿈_ballad',\n",
       " '43. Gymnopedie No.1 - Lent Et Douloureux_ 느리고 고통스럽게_waltz',\n",
       " '40. Auf Flugeln Des Gesanges Op.34-2_ 노래의 날개 위에 작품번호 34-2_ballad',\n",
       " '57. Je Te Veux_ 난 그대를 원해요_waltz',\n",
       " \"58. Una Furtiva Lagrima Da L'Elisir d'Amore_ 남 몰래 흐르는 눈물_bossa nova\",\n",
       " '85. Turkish March_ 터키행진곡_국악',\n",
       " \"60. Una Furtiva Lagrima Da L'Elisir d'Amore_ 남 몰래 흐르는 눈물_ballad\",\n",
       " '62. blumenlied (Flower Song)_ 꽃노래_uptempo swing',\n",
       " '63. blumenlied (Flower Song)_ 꽃노래_waltz',\n",
       " '64. Donau wellen walzer _ 다뉴브 강의 잔물결_easy listening',\n",
       " '65. Donau wellen walzer _ 다뉴브 강의 잔물결_ballad',\n",
       " \"67. The seasons June_ 사계' 중 '6월'_ballad\",\n",
       " '70. Consolation_ 위안_ballad',\n",
       " '71. Consolation_ 위안_uptempo swing',\n",
       " \"47. Solveing's song_ 솔베이그의 노래_ballad\",\n",
       " '뜰기로운 생활 로고송',\n",
       " '드릴 돌아가는 소리',\n",
       " 'Ave Maria ver.1',\n",
       " 'String Quartet No.17 - Serenade ver.3',\n",
       " 'Symphony No.3 F Major op.90 ver.3',\n",
       " 'Pavane op. 50 ver.3',\n",
       " 'Sicilienne ver.2',\n",
       " 'Piano Sonata No.8 \"Pathetique\" 2nd mov. ver.2',\n",
       " 'Je Te Veux (Prod. Erik Satie) Ver.1']"
      ]
     },
     "execution_count": 33,
     "metadata": {},
     "output_type": "execute_result"
    }
   ],
   "source": [
    "music_titles"
   ]
  },
  {
   "cell_type": "code",
   "execution_count": 42,
   "metadata": {},
   "outputs": [],
   "source": [
    "music = music.iloc[44:,:]"
   ]
  },
  {
   "cell_type": "code",
   "execution_count": 48,
   "metadata": {},
   "outputs": [],
   "source": [
    "driver.switch_to.window(driver.window_handles[0])"
   ]
  },
  {
   "cell_type": "code",
   "execution_count": 45,
   "metadata": {
    "tags": []
   },
   "outputs": [
    {
     "name": "stderr",
     "output_type": "stream",
     "text": [
      "106it [52:08, 29.51s/it]\n"
     ]
    },
    {
     "ename": "TimeoutException",
     "evalue": "Message: timeout: Timed out receiving message from renderer: 300.000\n  (Session info: chrome=91.0.4472.77)\n",
     "output_type": "error",
     "traceback": [
      "\u001b[1;31m---------------------------------------------------------------------------\u001b[0m",
      "\u001b[1;31mTimeoutException\u001b[0m                          Traceback (most recent call last)",
      "\u001b[1;32m<ipython-input-45-82ceca04695a>\u001b[0m in \u001b[0;36m<module>\u001b[1;34m\u001b[0m\n\u001b[0;32m      1\u001b[0m \u001b[0mURL\u001b[0m \u001b[1;33m=\u001b[0m \u001b[1;34m'https://gongu.copyright.or.kr/gongu/wrt/wrtCl/listWrtSound.do?menuNo=200020&pageIndex=1&searchWrd='\u001b[0m\u001b[1;33m\u001b[0m\u001b[1;33m\u001b[0m\u001b[0m\n\u001b[0;32m      2\u001b[0m \u001b[1;32mfor\u001b[0m \u001b[0mmtitle\u001b[0m\u001b[1;33m,\u001b[0m \u001b[0mtag1\u001b[0m\u001b[1;33m,\u001b[0m \u001b[0mtag2\u001b[0m\u001b[1;33m,\u001b[0m \u001b[0mtag3\u001b[0m \u001b[1;32min\u001b[0m \u001b[0mtqdm\u001b[0m\u001b[1;33m(\u001b[0m\u001b[0mzip\u001b[0m\u001b[1;33m(\u001b[0m\u001b[0mlist\u001b[0m\u001b[1;33m(\u001b[0m\u001b[0mmusic\u001b[0m\u001b[1;33m[\u001b[0m\u001b[1;34m'title'\u001b[0m\u001b[1;33m]\u001b[0m\u001b[1;33m)\u001b[0m\u001b[1;33m,\u001b[0m \u001b[0mlist\u001b[0m\u001b[1;33m(\u001b[0m\u001b[0mmusic\u001b[0m\u001b[1;33m[\u001b[0m\u001b[1;34m'tag1'\u001b[0m\u001b[1;33m]\u001b[0m\u001b[1;33m)\u001b[0m\u001b[1;33m,\u001b[0m \u001b[0mlist\u001b[0m\u001b[1;33m(\u001b[0m\u001b[0mmusic\u001b[0m\u001b[1;33m[\u001b[0m\u001b[1;34m'tag2'\u001b[0m\u001b[1;33m]\u001b[0m\u001b[1;33m)\u001b[0m\u001b[1;33m,\u001b[0m \u001b[0mlist\u001b[0m\u001b[1;33m(\u001b[0m\u001b[0mmusic\u001b[0m\u001b[1;33m[\u001b[0m\u001b[1;34m'tag3'\u001b[0m\u001b[1;33m]\u001b[0m\u001b[1;33m)\u001b[0m\u001b[1;33m)\u001b[0m\u001b[1;33m)\u001b[0m\u001b[1;33m:\u001b[0m\u001b[1;33m\u001b[0m\u001b[1;33m\u001b[0m\u001b[0m\n\u001b[1;32m----> 3\u001b[1;33m     \u001b[0mdriver\u001b[0m\u001b[1;33m.\u001b[0m\u001b[0mget\u001b[0m\u001b[1;33m(\u001b[0m\u001b[0mURL\u001b[0m \u001b[1;33m+\u001b[0m \u001b[0mmtitle\u001b[0m\u001b[1;33m)\u001b[0m\u001b[1;33m\u001b[0m\u001b[1;33m\u001b[0m\u001b[0m\n\u001b[0m\u001b[0;32m      4\u001b[0m     \u001b[0mtime\u001b[0m\u001b[1;33m.\u001b[0m\u001b[0msleep\u001b[0m\u001b[1;33m(\u001b[0m\u001b[1;36m2\u001b[0m\u001b[1;33m)\u001b[0m\u001b[1;33m\u001b[0m\u001b[1;33m\u001b[0m\u001b[0m\n\u001b[0;32m      5\u001b[0m     \u001b[0mtitles\u001b[0m \u001b[1;33m=\u001b[0m \u001b[0mdriver\u001b[0m\u001b[1;33m.\u001b[0m\u001b[0mfind_elements_by_css_selector\u001b[0m\u001b[1;33m(\u001b[0m\u001b[1;34m'ul > li > div:nth-child(1) > div.col-md-8 > span.tit > a'\u001b[0m\u001b[1;33m)\u001b[0m\u001b[1;33m\u001b[0m\u001b[1;33m\u001b[0m\u001b[0m\n",
      "\u001b[1;32m~\\anaconda3\\lib\\site-packages\\selenium\\webdriver\\remote\\webdriver.py\u001b[0m in \u001b[0;36mget\u001b[1;34m(self, url)\u001b[0m\n\u001b[0;32m    331\u001b[0m         \u001b[0mLoads\u001b[0m \u001b[0ma\u001b[0m \u001b[0mweb\u001b[0m \u001b[0mpage\u001b[0m \u001b[1;32min\u001b[0m \u001b[0mthe\u001b[0m \u001b[0mcurrent\u001b[0m \u001b[0mbrowser\u001b[0m \u001b[0msession\u001b[0m\u001b[1;33m.\u001b[0m\u001b[1;33m\u001b[0m\u001b[1;33m\u001b[0m\u001b[0m\n\u001b[0;32m    332\u001b[0m         \"\"\"\n\u001b[1;32m--> 333\u001b[1;33m         \u001b[0mself\u001b[0m\u001b[1;33m.\u001b[0m\u001b[0mexecute\u001b[0m\u001b[1;33m(\u001b[0m\u001b[0mCommand\u001b[0m\u001b[1;33m.\u001b[0m\u001b[0mGET\u001b[0m\u001b[1;33m,\u001b[0m \u001b[1;33m{\u001b[0m\u001b[1;34m'url'\u001b[0m\u001b[1;33m:\u001b[0m \u001b[0murl\u001b[0m\u001b[1;33m}\u001b[0m\u001b[1;33m)\u001b[0m\u001b[1;33m\u001b[0m\u001b[1;33m\u001b[0m\u001b[0m\n\u001b[0m\u001b[0;32m    334\u001b[0m \u001b[1;33m\u001b[0m\u001b[0m\n\u001b[0;32m    335\u001b[0m     \u001b[1;33m@\u001b[0m\u001b[0mproperty\u001b[0m\u001b[1;33m\u001b[0m\u001b[1;33m\u001b[0m\u001b[0m\n",
      "\u001b[1;32m~\\anaconda3\\lib\\site-packages\\selenium\\webdriver\\remote\\webdriver.py\u001b[0m in \u001b[0;36mexecute\u001b[1;34m(self, driver_command, params)\u001b[0m\n\u001b[0;32m    319\u001b[0m         \u001b[0mresponse\u001b[0m \u001b[1;33m=\u001b[0m \u001b[0mself\u001b[0m\u001b[1;33m.\u001b[0m\u001b[0mcommand_executor\u001b[0m\u001b[1;33m.\u001b[0m\u001b[0mexecute\u001b[0m\u001b[1;33m(\u001b[0m\u001b[0mdriver_command\u001b[0m\u001b[1;33m,\u001b[0m \u001b[0mparams\u001b[0m\u001b[1;33m)\u001b[0m\u001b[1;33m\u001b[0m\u001b[1;33m\u001b[0m\u001b[0m\n\u001b[0;32m    320\u001b[0m         \u001b[1;32mif\u001b[0m \u001b[0mresponse\u001b[0m\u001b[1;33m:\u001b[0m\u001b[1;33m\u001b[0m\u001b[1;33m\u001b[0m\u001b[0m\n\u001b[1;32m--> 321\u001b[1;33m             \u001b[0mself\u001b[0m\u001b[1;33m.\u001b[0m\u001b[0merror_handler\u001b[0m\u001b[1;33m.\u001b[0m\u001b[0mcheck_response\u001b[0m\u001b[1;33m(\u001b[0m\u001b[0mresponse\u001b[0m\u001b[1;33m)\u001b[0m\u001b[1;33m\u001b[0m\u001b[1;33m\u001b[0m\u001b[0m\n\u001b[0m\u001b[0;32m    322\u001b[0m             response['value'] = self._unwrap_value(\n\u001b[0;32m    323\u001b[0m                 response.get('value', None))\n",
      "\u001b[1;32m~\\anaconda3\\lib\\site-packages\\selenium\\webdriver\\remote\\errorhandler.py\u001b[0m in \u001b[0;36mcheck_response\u001b[1;34m(self, response)\u001b[0m\n\u001b[0;32m    240\u001b[0m                 \u001b[0malert_text\u001b[0m \u001b[1;33m=\u001b[0m \u001b[0mvalue\u001b[0m\u001b[1;33m[\u001b[0m\u001b[1;34m'alert'\u001b[0m\u001b[1;33m]\u001b[0m\u001b[1;33m.\u001b[0m\u001b[0mget\u001b[0m\u001b[1;33m(\u001b[0m\u001b[1;34m'text'\u001b[0m\u001b[1;33m)\u001b[0m\u001b[1;33m\u001b[0m\u001b[1;33m\u001b[0m\u001b[0m\n\u001b[0;32m    241\u001b[0m             \u001b[1;32mraise\u001b[0m \u001b[0mexception_class\u001b[0m\u001b[1;33m(\u001b[0m\u001b[0mmessage\u001b[0m\u001b[1;33m,\u001b[0m \u001b[0mscreen\u001b[0m\u001b[1;33m,\u001b[0m \u001b[0mstacktrace\u001b[0m\u001b[1;33m,\u001b[0m \u001b[0malert_text\u001b[0m\u001b[1;33m)\u001b[0m\u001b[1;33m\u001b[0m\u001b[1;33m\u001b[0m\u001b[0m\n\u001b[1;32m--> 242\u001b[1;33m         \u001b[1;32mraise\u001b[0m \u001b[0mexception_class\u001b[0m\u001b[1;33m(\u001b[0m\u001b[0mmessage\u001b[0m\u001b[1;33m,\u001b[0m \u001b[0mscreen\u001b[0m\u001b[1;33m,\u001b[0m \u001b[0mstacktrace\u001b[0m\u001b[1;33m)\u001b[0m\u001b[1;33m\u001b[0m\u001b[1;33m\u001b[0m\u001b[0m\n\u001b[0m\u001b[0;32m    243\u001b[0m \u001b[1;33m\u001b[0m\u001b[0m\n\u001b[0;32m    244\u001b[0m     \u001b[1;32mdef\u001b[0m \u001b[0m_value_or_default\u001b[0m\u001b[1;33m(\u001b[0m\u001b[0mself\u001b[0m\u001b[1;33m,\u001b[0m \u001b[0mobj\u001b[0m\u001b[1;33m,\u001b[0m \u001b[0mkey\u001b[0m\u001b[1;33m,\u001b[0m \u001b[0mdefault\u001b[0m\u001b[1;33m)\u001b[0m\u001b[1;33m:\u001b[0m\u001b[1;33m\u001b[0m\u001b[1;33m\u001b[0m\u001b[0m\n",
      "\u001b[1;31mTimeoutException\u001b[0m: Message: timeout: Timed out receiving message from renderer: 300.000\n  (Session info: chrome=91.0.4472.77)\n"
     ]
    }
   ],
   "source": [
    "URL = 'https://gongu.copyright.or.kr/gongu/wrt/wrtCl/listWrtSound.do?menuNo=200020&pageIndex=1&searchWrd='\n",
    "for mtitle, tag1, tag2, tag3 in tqdm(zip(list(music['title']), list(music['tag1']), list(music['tag2']), list(music['tag3']))):\n",
    "    driver.get(URL + mtitle)\n",
    "    time.sleep(2)\n",
    "    titles = driver.find_elements_by_css_selector('ul > li > div:nth-child(1) > div.col-md-8 > span.tit > a')\n",
    "    tags1 = driver.find_elements_by_css_selector(\"#contents > div.bbsList.style2 > ul > li > div:nth-child(3) > div.col-md-9 > div > ul > li:nth-child(1)\")\n",
    "    tags2 = driver.find_elements_by_css_selector(\"#contents > div.bbsList.style2 > ul > li > div:nth-child(3) > div.col-md-9 > div > ul > li:nth-child(2)\")\n",
    "    tags3 = driver.find_elements_by_css_selector(\"#contents > div.bbsList.style2 > ul > li > div:nth-child(3) > div.col-md-9 > div > ul > li:nth-child(3)\")\n",
    "    pagein(mtitle, tag1, tag2, tag3, titles, tags1, tags2, tags3)\n",
    "    time.sleep(1)\n",
    "    try:\n",
    "        driver.find_element_by_css_selector('#chkDownAt').click()\n",
    "    except:\n",
    "        music_titles.append(mtitle)\n",
    "        file_titles.append(np.NaN)\n",
    "        continue\n",
    "    driver.find_element_by_css_selector('#downChkBtn').click()\n",
    "    time.sleep(1)\n",
    "    driver.switch_to.window(driver.window_handles[-1])\n",
    "    try:\n",
    "        driver.switch_to.frame(driver.find_elements_by_tag_name(\"iframe\")[0])\n",
    "    except:\n",
    "        music_titles.append(mtitle)\n",
    "        file_titles.append(np.NaN)\n",
    "        driver.switch_to.window(driver.window_handles[0])\n",
    "        continue        \n",
    "    if driver.find_elements_by_css_selector('#file_list > li > ul > li.fname > span') == []:\n",
    "        music_titles.append(mtitle)\n",
    "        file_titles.append(np.NaN)\n",
    "        driver.switch_to.window(driver.window_handles[0])\n",
    "        continue\n",
    "    cnt = 0\n",
    "    for name in driver.find_elements_by_css_selector('#file_list > li > ul > li.fname > span'):\n",
    "        if name.text[-3:] in ['mp3', 'wav']:\n",
    "            music_titles.append(mtitle)\n",
    "            file_titles.append(name.text)\n",
    "            break\n",
    "        cnt += 1\n",
    "    driver.switch_to.window(driver.window_handles[0])\n",
    "    time.sleep(1)"
   ]
  },
  {
   "cell_type": "code",
   "execution_count": 50,
   "metadata": {},
   "outputs": [
    {
     "data": {
      "text/plain": [
       "['4. Keyboard Concerto No. 5 in F Minor BWV 1056 - Largo_ 키보드 협주곡 제 5번 F단조 BWV 1056. 제2악장 라르고_ballad',\n",
       " \"9. Prelude, op.28-15(Rain Drop)_ 쇼팽 : 전주곡 15번 내림 라장조 작품번호 28-15 '빗방울'_ballad\",\n",
       " '2. Frolicher Landmann_ 행복한 농부_ragtime',\n",
       " '27. Kinderszenen Op.15 - VII. Traumerei_ 어린이의 정경 중 꿈 작품번호 15_ballad',\n",
       " '97. Symphony No. 5 in Cminor, Op.67_ 교향곡 제5번 다단조 [운명] OP.67_string',\n",
       " '11. The Swan(Le Cygne)_ 백조_fast swing',\n",
       " '94. Carmen Prelude_ 카르멘 서곡_string',\n",
       " '12. The Swan(Le Cygne)_ 백조_ballad',\n",
       " \"101. Serenade No.13 in G Major K525 'Eine Kleins Nachtmusik'_ 세레나데 제 13번 사장조 '아이네 클라이네 나흐트 무지크'_string\",\n",
       " \"102. Symphony No. 8 in B minor. D759 'Unfinished'_ 교향곡 8번 나단조 D759 '미완성'_string\",\n",
       " '23. Minuet In G Major BWV Anh. II 114_ 미뉴에트 사장조 BWV Anh. II 114_fast swing',\n",
       " '15. Sarabande_ 사라방드_easy listening',\n",
       " '17. Nocturne Op.9-2_ 녹턴 작품번호 9-2_funk',\n",
       " '34. Ave Maria_ 아베 마리아_ballad',\n",
       " '31. Songs my mother taught me op.55-4_ 어머니가 가르쳐 주신 노래 작품노래 55-4_ballad',\n",
       " \"29. Salut D'amour In E Major Op.12_ 사랑의 인사 마장조 작품번호 12_uptempo swing\",\n",
       " \"53. Etude No.3 In E Major Op.10-3 'Tristesse'_ 에튀드 제 3번 마장조 작품번호 10-3 '내 맘속을 울리는 그대'_bossa nova\",\n",
       " '55. Je Te Veux_ 난 그대를 원해요_ballad',\n",
       " \"37. Jaqueline Du Pre - Jacqueline's Tears_ 자클린의 눈물_ballad\",\n",
       " \"39. Jaqueline Du Pre - Jacqueline's Tears_ 자클린의 눈물_bossa nova\",\n",
       " '49. Liebestraum - Love Dream_ 사랑의 꿈_ballad',\n",
       " '43. Gymnopedie No.1 - Lent Et Douloureux_ 느리고 고통스럽게_waltz',\n",
       " '40. Auf Flugeln Des Gesanges Op.34-2_ 노래의 날개 위에 작품번호 34-2_ballad',\n",
       " '57. Je Te Veux_ 난 그대를 원해요_waltz',\n",
       " \"58. Una Furtiva Lagrima Da L'Elisir d'Amore_ 남 몰래 흐르는 눈물_bossa nova\",\n",
       " '85. Turkish March_ 터키행진곡_국악',\n",
       " \"60. Una Furtiva Lagrima Da L'Elisir d'Amore_ 남 몰래 흐르는 눈물_ballad\",\n",
       " '62. blumenlied (Flower Song)_ 꽃노래_uptempo swing',\n",
       " '63. blumenlied (Flower Song)_ 꽃노래_waltz',\n",
       " '64. Donau wellen walzer _ 다뉴브 강의 잔물결_easy listening',\n",
       " '65. Donau wellen walzer _ 다뉴브 강의 잔물결_ballad',\n",
       " \"67. The seasons June_ 사계' 중 '6월'_ballad\",\n",
       " '70. Consolation_ 위안_ballad',\n",
       " '71. Consolation_ 위안_uptempo swing',\n",
       " \"47. Solveing's song_ 솔베이그의 노래_ballad\",\n",
       " '뜰기로운 생활 로고송',\n",
       " '드릴 돌아가는 소리',\n",
       " 'Ave Maria ver.1',\n",
       " 'String Quartet No.17 - Serenade ver.3',\n",
       " 'Symphony No.3 F Major op.90 ver.3',\n",
       " 'Pavane op. 50 ver.3',\n",
       " 'Sicilienne ver.2',\n",
       " 'Piano Sonata No.8 \"Pathetique\" 2nd mov. ver.2',\n",
       " 'Je Te Veux (Prod. Erik Satie) Ver.1',\n",
       " 'Je Te Veux (Prod. Erik Satie) Ver.2',\n",
       " 'O Word Of God Incarnate ver.2',\n",
       " 'Greensleeves',\n",
       " 'Fröhlicher Landmann ver.1',\n",
       " 'Fröhlicher Landmann ver.2',\n",
       " 'Waves of the Danube',\n",
       " 'Flute Sonata No.1 BWV 1030',\n",
       " 'Adagio In G minor ver.6',\n",
       " 'Piano Concerto No.5 BWV 1056 2nd Mov. Largo ver.2',\n",
       " 'Variations On the Theme by Rossini',\n",
       " 'Beethoven Sonata \"Pathetique\" ver.2',\n",
       " 'Greensleeves ver.2',\n",
       " 'Pavane Op. 50 ver.4',\n",
       " 'Symphony No.9 2nd Mov.Theme ver.3',\n",
       " 'The Seasons, June (Barcarolle) ver.2',\n",
       " 'O Holy Night',\n",
       " 'Swan Lake ver.2',\n",
       " 'Symphony No.3 F op.90 ver.1',\n",
       " 'O Divine Redeemer ver.2',\n",
       " 'O Divine Redeemer ver.3',\n",
       " 'For Elise ver.3',\n",
       " 'String Quartet No.17 - Serenade ver.2',\n",
       " 'La Cinquantaine ver.1',\n",
       " 'Träumerei ver.1',\n",
       " 'String Quartet No.17 - Serenade ver.1',\n",
       " 'O Divine Redeemer ver.1',\n",
       " 'La Cinquantaine ver.3',\n",
       " 'Habanera ver.1',\n",
       " 'Adagio In G minor ver.1',\n",
       " 'Habanera ver.3',\n",
       " 'Sicilienne ver.1',\n",
       " 'Symphony No.9',\n",
       " 'Piano Sonata No.8 \"Pathetique\" 2nd mov. ver.1',\n",
       " 'Rescuerdow De La Alhambra ver.2',\n",
       " 'Romance ver.2',\n",
       " 'Spring Song',\n",
       " 'An Die Musik',\n",
       " 'The Great Gate Of Kiev',\n",
       " 'Piano Concerto In A minor ver.1',\n",
       " 'Piano Concerto In A minor ver.2',\n",
       " 'Marche Slav',\n",
       " 'Ich Liebe Dich ver.1',\n",
       " 'Piano Sonata no.14 in C# minor \"Moonlight\"',\n",
       " 'Prelude In E Minor op.28 No.4',\n",
       " 'Fantasie - Impromptu op.66',\n",
       " 'O Mio Babbino Caro ver.1',\n",
       " 'Rescuerdow De La Alhambra ver.1',\n",
       " 'O Word Of God Incarnate ver.1',\n",
       " 'Pavane op. 50 ver.1',\n",
       " 'Tais Meditation ver.1',\n",
       " 'Vocalise',\n",
       " 'Tais Meditation ver.2',\n",
       " 'Pavane op. 50 ver.2',\n",
       " 'Songs My Mother Taught Me ver.1',\n",
       " 'Adagio In G minor ver.7',\n",
       " 'Piano Concerto No. 5 \"Emperor\" 1st Movement',\n",
       " 'Piano Concerto No. 5 \"Emperor\" 3rd Movement',\n",
       " 'Piano Concerto No. 4, 1st Movement',\n",
       " 'Für Elise (Bagatelle No. 25 in A Minor)',\n",
       " 'Symphony No. 2 in D Major 4th Movement',\n",
       " 'String quartet - Op. 76, no.5, in D major - IV',\n",
       " 'Symphony No. 2',\n",
       " 'Symphony No. 3 in E-flat Major \"Eroica\" 4th Movement',\n",
       " 'Piano Sonata No. 29, Op. 106 1st Movement',\n",
       " '6 Lieder, Op.48, No.1 - Bitten',\n",
       " '6 Lieder, Op.48, No.3 - Vom Tode',\n",
       " \"Là-bas, vers l'église\",\n",
       " '6 Lieder, Op.48, No.6 - Busslied',\n",
       " '6 Lieder, Op.48, No.5 - Gottes Macht und Vorsehung',\n",
       " 'Symphony No. 8 in F Major First Movement',\n",
       " 'Symphony No. 7 in A Major 4th Movement',\n",
       " 'Symphony No. 5 in C Minor Second Movement',\n",
       " 'Symphony No. 5 in C Minor First Movement',\n",
       " 'Symphony No. 4 in B Flat Major Fourth Movement',\n",
       " 'Symphony No. 4 in B Flat Major 3rd Movement',\n",
       " '6 Songs, Op.7, No.6 - Heimkehr',\n",
       " 'Symphony No. 6 in F Major \"Pastoral\" 3rd Movement',\n",
       " 'Symphony No. 6 in F Major \"Pastoral\" 4th Movement',\n",
       " 'Symphony No. 6 in F Major \"Pastoral\" First Movement',\n",
       " '6 Songs, Op.7, No.3 - Anklänge',\n",
       " 'Overture to the Musical \"Of Thee I Sing\"',\n",
       " 'Piano Concerto in F - III. Allegro agitato',\n",
       " 'Schwanengesang, No.13 - Der Doppelgänger',\n",
       " 'Ballade No. 4 in F Minor',\n",
       " \"Quel galant m'est comparable\",\n",
       " '4 Songs, Op.43, No.1 - Von ewiger Liebe']"
      ]
     },
     "execution_count": 50,
     "metadata": {},
     "output_type": "execute_result"
    }
   ],
   "source": [
    "music_titles"
   ]
  },
  {
   "cell_type": "code",
   "execution_count": 54,
   "metadata": {},
   "outputs": [],
   "source": [
    "music = music.iloc[106:,:]"
   ]
  },
  {
   "cell_type": "code",
   "execution_count": 55,
   "metadata": {
    "tags": []
   },
   "outputs": [
    {
     "name": "stderr",
     "output_type": "stream",
     "text": [
      "142it [41:45, 17.64s/it]\n"
     ]
    }
   ],
   "source": [
    "URL = 'https://gongu.copyright.or.kr/gongu/wrt/wrtCl/listWrtSound.do?menuNo=200020&pageIndex=1&searchWrd='\n",
    "for mtitle, tag1, tag2, tag3 in tqdm(zip(list(music['title']), list(music['tag1']), list(music['tag2']), list(music['tag3']))):\n",
    "    driver.get(URL + mtitle)\n",
    "    time.sleep(2)\n",
    "    titles = driver.find_elements_by_css_selector('ul > li > div:nth-child(1) > div.col-md-8 > span.tit > a')\n",
    "    tags1 = driver.find_elements_by_css_selector(\"#contents > div.bbsList.style2 > ul > li > div:nth-child(3) > div.col-md-9 > div > ul > li:nth-child(1)\")\n",
    "    tags2 = driver.find_elements_by_css_selector(\"#contents > div.bbsList.style2 > ul > li > div:nth-child(3) > div.col-md-9 > div > ul > li:nth-child(2)\")\n",
    "    tags3 = driver.find_elements_by_css_selector(\"#contents > div.bbsList.style2 > ul > li > div:nth-child(3) > div.col-md-9 > div > ul > li:nth-child(3)\")\n",
    "    pagein(mtitle, tag1, tag2, tag3, titles, tags1, tags2, tags3)\n",
    "    time.sleep(1)\n",
    "    try:\n",
    "        driver.find_element_by_css_selector('#chkDownAt').click()\n",
    "    except:\n",
    "        music_titles.append(mtitle)\n",
    "        file_titles.append(np.NaN)\n",
    "        continue\n",
    "    driver.find_element_by_css_selector('#downChkBtn').click()\n",
    "    time.sleep(1)\n",
    "    driver.switch_to.window(driver.window_handles[-1])\n",
    "    try:\n",
    "        driver.switch_to.frame(driver.find_elements_by_tag_name(\"iframe\")[0])\n",
    "    except:\n",
    "        music_titles.append(mtitle)\n",
    "        file_titles.append(np.NaN)\n",
    "        driver.switch_to.window(driver.window_handles[0])\n",
    "        continue        \n",
    "    if driver.find_elements_by_css_selector('#file_list > li > ul > li.fname > span') == []:\n",
    "        music_titles.append(mtitle)\n",
    "        file_titles.append(np.NaN)\n",
    "        driver.switch_to.window(driver.window_handles[0])\n",
    "        continue\n",
    "    cnt = 0\n",
    "    for name in driver.find_elements_by_css_selector('#file_list > li > ul > li.fname > span'):\n",
    "        if name.text[-3:] in ['mp3', 'wav']:\n",
    "            music_titles.append(mtitle)\n",
    "            file_titles.append(name.text)\n",
    "            break\n",
    "        cnt += 1\n",
    "    driver.switch_to.window(driver.window_handles[0])\n",
    "    time.sleep(1)"
   ]
  },
  {
   "cell_type": "code",
   "execution_count": 58,
   "metadata": {},
   "outputs": [],
   "source": [
    "pd.DataFrame({'music_titles' : music_titles, 'file_titles' : file_titles}).to_csv('title.csv')"
   ]
  },
  {
   "cell_type": "code",
   "execution_count": null,
   "metadata": {},
   "outputs": [],
   "source": [
    "# 제목 목록\n",
    "driver.find_elements_by_css_selector('ul > li > div:nth-child(1) > div.col-md-8 > span.tit > a')[0].text"
   ]
  },
  {
   "cell_type": "code",
   "execution_count": null,
   "metadata": {},
   "outputs": [],
   "source": [
    "# 저작권 동의 클릭\n",
    "driver.find_element_by_css_selector('#chkDownAt').click()"
   ]
  },
  {
   "cell_type": "code",
   "execution_count": null,
   "metadata": {},
   "outputs": [],
   "source": [
    "# 다운로드\n",
    "driver.find_element_by_css_selector('#downChkBtn').click()"
   ]
  },
  {
   "cell_type": "code",
   "execution_count": null,
   "metadata": {},
   "outputs": [],
   "source": [
    "# 창 스위치\n",
    "driver.switch_to.window(driver.window_handles[-1])"
   ]
  },
  {
   "cell_type": "code",
   "execution_count": null,
   "metadata": {},
   "outputs": [],
   "source": [
    "#iframe으로 전환\n",
    "driver.switch_to.frame('dext5uploader_frame_dext5upload')"
   ]
  },
  {
   "cell_type": "code",
   "execution_count": null,
   "metadata": {},
   "outputs": [],
   "source": [
    "# 다운로드 파일 이름 목록 & 체크박스\n",
    "driver.find_elements_by_css_selector('#file_list > li:nth-child(1) > ul > li.fname > span')\n",
    "driver.find_elements_by_css_selector('#file_list > li > ul > li.input_chk')"
   ]
  },
  {
   "cell_type": "code",
   "execution_count": null,
   "metadata": {},
   "outputs": [],
   "source": [
    "# 다운로드 클릭\n",
    "driver.find_element_by_css_selector('#button_download').click()"
   ]
  }
 ],
 "metadata": {
  "kernelspec": {
   "display_name": "Python 3",
   "language": "python",
   "name": "python3"
  },
  "language_info": {
   "codemirror_mode": {
    "name": "ipython",
    "version": 3
   },
   "file_extension": ".py",
   "mimetype": "text/x-python",
   "name": "python",
   "nbconvert_exporter": "python",
   "pygments_lexer": "ipython3",
   "version": "3.8.8"
  }
 },
 "nbformat": 4,
 "nbformat_minor": 4
}
