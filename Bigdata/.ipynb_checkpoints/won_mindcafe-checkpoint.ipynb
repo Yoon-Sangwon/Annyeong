{
 "cells": [
  {
   "cell_type": "code",
   "execution_count": 31,
   "metadata": {},
   "outputs": [],
   "source": [
    "from selenium import webdriver\n",
    "from selenium.webdriver import ActionChains\n",
    "import time\n",
    "from tqdm import trange, tqdm, tqdm_notebook\n",
    "import numpy as np\n",
    "import pandas as pd"
   ]
  },
  {
   "cell_type": "code",
   "execution_count": 2,
   "metadata": {},
   "outputs": [],
   "source": [
    "driver = webdriver.Chrome('C:/Temp/chromedriver')\n",
    "driver.get(\"https://www.mindcafe.co.kr/\")"
   ]
  },
  {
   "cell_type": "code",
   "execution_count": 3,
   "metadata": {},
   "outputs": [],
   "source": [
    "driver.find_element_by_css_selector(\"div.stories-group > div:nth-child(3) > div > div > div.header > div.header__more\").click()"
   ]
  },
  {
   "cell_type": "code",
   "execution_count": 8,
   "metadata": {},
   "outputs": [
    {
     "name": "stderr",
     "output_type": "stream",
     "text": [
      "100%|██████████████████████████████████████████████████████████████████████████████████████| 1023/1023 [00:00<?, ?it/s]\n",
      "100%|██████████████████████████████████████████████████████████████████████████| 4780/4780 [00:00<00:00, 958720.98it/s]\n"
     ]
    }
   ],
   "source": [
    "temp = []\n",
    "while True:\n",
    "    driver.execute_script(\"window.scrollTo(0, document.body.scrollHeight);\")\n",
    "    time.sleep(1.5)\n",
    "    content_list = driver.find_elements_by_css_selector(\"div.Stories__StoriesWrapper-clu9ot-0.enwmNA > div > div > div > div.main > a.contents\")\n",
    "    if len(content_list) == len(temp):\n",
    "        break\n",
    "    temp = content_list\n"
   ]
  },
  {
   "cell_type": "code",
   "execution_count": 28,
   "metadata": {},
   "outputs": [
    {
     "name": "stderr",
     "output_type": "stream",
     "text": [
      "100%|██████████████████████████████████████████████████████████████████████████████| 4780/4780 [07:53<00:00, 10.10it/s]\n"
     ]
    }
   ],
   "source": [
    "titles = []\n",
    "contents = []\n",
    "URL = \"div.Stories__StoriesWrapper-clu9ot-0.enwmNA > div > div:nth-child(\"\n",
    "title_URL = \") > div > div.main > a.title\"\n",
    "content_URL = \") > div > div.main > a.contents\"\n",
    "for i in tqdm(range(1, len(content_list) + 1)):\n",
    "    for x in driver.find_elements_by_css_selector(URL + str(i) + title_URL):\n",
    "        titles.append(x.text)\n",
    "    if driver.find_elements_by_css_selector(URL + str(i) + title_URL) == []:\n",
    "        titles.append(np.NaN)\n",
    "    for y in driver.find_elements_by_css_selector(URL + str(i) + content_URL):\n",
    "        contents.append(y.text)"
   ]
  },
  {
   "cell_type": "code",
   "execution_count": 29,
   "metadata": {},
   "outputs": [
    {
     "name": "stdout",
     "output_type": "stream",
     "text": [
      "4780\n"
     ]
    },
    {
     "data": {
      "text/plain": [
       "4780"
      ]
     },
     "execution_count": 29,
     "metadata": {},
     "output_type": "execute_result"
    }
   ],
   "source": [
    "print(len(titles))\n",
    "len(contents)"
   ]
  },
  {
   "cell_type": "code",
   "execution_count": 34,
   "metadata": {},
   "outputs": [],
   "source": [
    "mindcafe = pd.DataFrame({'title' : titles, 'content' : contents})\n",
    "mindcafe.to_csv('mindcafe.csv')"
   ]
  }
 ],
 "metadata": {
  "kernelspec": {
   "display_name": "pydatavenv",
   "language": "python",
   "name": "pydatavenv"
  },
  "language_info": {
   "codemirror_mode": {
    "name": "ipython",
    "version": 3
   },
   "file_extension": ".py",
   "mimetype": "text/x-python",
   "name": "python",
   "nbconvert_exporter": "python",
   "pygments_lexer": "ipython3",
   "version": "3.8.8"
  }
 },
 "nbformat": 4,
 "nbformat_minor": 4
}
