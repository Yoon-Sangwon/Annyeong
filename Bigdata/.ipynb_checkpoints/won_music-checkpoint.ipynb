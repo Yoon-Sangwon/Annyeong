{
 "cells": [
  {
   "cell_type": "code",
   "execution_count": 7,
   "metadata": {},
   "outputs": [],
   "source": [
    "from selenium import webdriver\n",
    "from selenium.webdriver.common.keys import Keys \n",
    "from selenium.webdriver import ActionChains"
   ]
  },
  {
   "cell_type": "code",
   "execution_count": 10,
   "metadata": {},
   "outputs": [],
   "source": [
    "URL = 'https://gongu.copyright.or.kr/gongu/wrt/wrtCl/listWrtSound.do?menuNo=200020'\n",
    "\n",
    "driver = webdriver.Chrome('C:/Temp/chromedriver')\n",
    "driver.get(URL)"
   ]
  },
  {
   "cell_type": "code",
   "execution_count": 23,
   "metadata": {},
   "outputs": [
    {
     "name": "stdout",
     "output_type": "stream",
     "text": [
      "China Night_胡美芳_STEREO 포크 경쾌 70 조회수\n",
      "11165 다운로드 수\n",
      "1304\n"
     ]
    }
   ],
   "source": [
    "print(driver.find_element_by_css_selector(\"div:nth-child(1) > div.col-md-8 > span.tit > a\").text,\n",
    "driver.find_element_by_css_selector(\"div:nth-child(3) > div.col-md-9 > div > ul > li:nth-child(1) > a\").text,\n",
    "driver.find_element_by_css_selector(\"div:nth-child(3) > div.col-md-9 > div > ul > li:nth-child(2) > a\").text,\n",
    "driver.find_element_by_css_selector(\"div:nth-child(3) > div.col-md-3 > div > a.isep.icon_reco.recommendBtn > span.recNum\").text,\n",
    "driver.find_element_by_css_selector(\"div:nth-child(3) > div.col-md-3 > div > span\").text,\n",
    "driver.find_element_by_css_selector(\"div:nth-child(3) > div.col-md-3 > div > a:nth-child(3) > span\").text)"
   ]
  }
 ],
 "metadata": {
  "kernelspec": {
   "display_name": "pydatavenv",
   "language": "python",
   "name": "pydatavenv"
  },
  "language_info": {
   "codemirror_mode": {
    "name": "ipython",
    "version": 3
   },
   "file_extension": ".py",
   "mimetype": "text/x-python",
   "name": "python",
   "nbconvert_exporter": "python",
   "pygments_lexer": "ipython3",
   "version": "3.8.8"
  }
 },
 "nbformat": 4,
 "nbformat_minor": 4
}
